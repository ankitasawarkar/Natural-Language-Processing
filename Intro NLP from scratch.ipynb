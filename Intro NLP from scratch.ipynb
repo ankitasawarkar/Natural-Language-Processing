{
 "cells": [
  {
   "cell_type": "markdown",
   "metadata": {
    "id": "BhQcYRoFwQfA"
   },
   "source": [
    "# Day1"
   ]
  },
  {
   "cell_type": "code",
   "execution_count": 1,
   "metadata": {
    "id": "AjEabyCxaF42"
   },
   "outputs": [],
   "source": [
    "# NLP - TEXT\n",
    "# Amazon Review - \"\"\"This is the worst product I have ever seen\"\"\"\n",
    "# Can we make a Text classifier to categorize this review in (+)ve Ve (-)ve feedback!"
   ]
  },
  {
   "cell_type": "code",
   "execution_count": 2,
   "metadata": {
    "id": "cH8v55B_cUN9"
   },
   "outputs": [],
   "source": [
    "# NLTK      - Stanford\n",
    "# Spacy     -\n",
    "# TextBlob  -"
   ]
  },
  {
   "cell_type": "code",
   "execution_count": 3,
   "metadata": {
    "id": "Pjz5vbD3eawp"
   },
   "outputs": [
    {
     "name": "stdout",
     "output_type": "stream",
     "text": [
      "Collecting spacy\n",
      "  Obtaining dependency information for spacy from https://files.pythonhosted.org/packages/34/1a/cd4f39dcd28628bf69d2a6642aea3854f2de877196c737bf08e4ef3ca372/spacy-3.6.1-cp310-cp310-win_amd64.whl.metadata\n",
      "  Downloading spacy-3.6.1-cp310-cp310-win_amd64.whl.metadata (26 kB)\n",
      "Collecting spacy-legacy<3.1.0,>=3.0.11 (from spacy)\n",
      "  Downloading spacy_legacy-3.0.12-py2.py3-none-any.whl (29 kB)\n",
      "Collecting spacy-loggers<2.0.0,>=1.0.0 (from spacy)\n",
      "  Downloading spacy_loggers-1.0.4-py3-none-any.whl (11 kB)\n",
      "Collecting murmurhash<1.1.0,>=0.28.0 (from spacy)\n",
      "  Downloading murmurhash-1.0.9-cp310-cp310-win_amd64.whl (18 kB)\n",
      "Collecting cymem<2.1.0,>=2.0.2 (from spacy)\n",
      "  Downloading cymem-2.0.7-cp310-cp310-win_amd64.whl (29 kB)\n",
      "Collecting preshed<3.1.0,>=3.0.2 (from spacy)\n",
      "  Downloading preshed-3.0.8-cp310-cp310-win_amd64.whl (94 kB)\n",
      "     ---------------------------------------- 0.0/94.7 kB ? eta -:--:--\n",
      "     ---------------------------------------- 94.7/94.7 kB 2.7 MB/s eta 0:00:00\n",
      "Collecting thinc<8.2.0,>=8.1.8 (from spacy)\n",
      "  Obtaining dependency information for thinc<8.2.0,>=8.1.8 from https://files.pythonhosted.org/packages/c0/a9/6b250ddb2dd4006051332bca3ff1c60562e643a39f6f9b0f71a9806602e1/thinc-8.1.12-cp310-cp310-win_amd64.whl.metadata\n",
      "  Downloading thinc-8.1.12-cp310-cp310-win_amd64.whl.metadata (15 kB)\n",
      "Collecting wasabi<1.2.0,>=0.9.1 (from spacy)\n",
      "  Obtaining dependency information for wasabi<1.2.0,>=0.9.1 from https://files.pythonhosted.org/packages/8f/69/26cbf0bad11703241cb84d5324d868097f7a8faf2f1888354dac8883f3fc/wasabi-1.1.2-py3-none-any.whl.metadata\n",
      "  Downloading wasabi-1.1.2-py3-none-any.whl.metadata (28 kB)\n",
      "Collecting srsly<3.0.0,>=2.4.3 (from spacy)\n",
      "  Obtaining dependency information for srsly<3.0.0,>=2.4.3 from https://files.pythonhosted.org/packages/8d/e3/60769ee9b07a41aa9def88a78d884447f613ef6a7fae0f40f24886a98030/srsly-2.4.7-cp310-cp310-win_amd64.whl.metadata\n",
      "  Downloading srsly-2.4.7-cp310-cp310-win_amd64.whl.metadata (20 kB)\n",
      "Collecting catalogue<2.1.0,>=2.0.6 (from spacy)\n",
      "  Obtaining dependency information for catalogue<2.1.0,>=2.0.6 from https://files.pythonhosted.org/packages/45/8f/5b73efc14e0373d9bb0de6ce1ab04a8f77420dc473f1f3ef270caf085cff/catalogue-2.0.9-py3-none-any.whl.metadata\n",
      "  Downloading catalogue-2.0.9-py3-none-any.whl.metadata (14 kB)\n",
      "Collecting typer<0.10.0,>=0.3.0 (from spacy)\n",
      "  Downloading typer-0.9.0-py3-none-any.whl (45 kB)\n",
      "     ---------------------------------------- 0.0/45.9 kB ? eta -:--:--\n",
      "     ---------------------------------------- 45.9/45.9 kB ? eta 0:00:00\n",
      "Collecting pathy>=0.10.0 (from spacy)\n",
      "  Obtaining dependency information for pathy>=0.10.0 from https://files.pythonhosted.org/packages/b5/c3/04a002ace658133f5ac48d30258ed9ceab720595dc1ac36df02fe52018af/pathy-0.10.2-py3-none-any.whl.metadata\n",
      "  Downloading pathy-0.10.2-py3-none-any.whl.metadata (16 kB)\n",
      "Requirement already satisfied: smart-open<7.0.0,>=5.2.1 in c:\\users\\ankita\\appdata\\local\\programs\\python\\python310\\lib\\site-packages (from spacy) (6.3.0)\n",
      "Requirement already satisfied: tqdm<5.0.0,>=4.38.0 in c:\\users\\ankita\\appdata\\local\\programs\\python\\python310\\lib\\site-packages (from spacy) (4.65.0)\n",
      "Requirement already satisfied: numpy>=1.15.0 in c:\\users\\ankita\\appdata\\local\\programs\\python\\python310\\lib\\site-packages (from spacy) (1.24.3)\n",
      "Requirement already satisfied: requests<3.0.0,>=2.13.0 in c:\\users\\ankita\\appdata\\local\\programs\\python\\python310\\lib\\site-packages (from spacy) (2.31.0)\n",
      "Collecting pydantic!=1.8,!=1.8.1,<3.0.0,>=1.7.4 (from spacy)\n",
      "  Obtaining dependency information for pydantic!=1.8,!=1.8.1,<3.0.0,>=1.7.4 from https://files.pythonhosted.org/packages/fd/35/86b1e7571e695587df0ddf2937100436dce0caa277d2f016d4e4f7d3791a/pydantic-2.2.1-py3-none-any.whl.metadata\n",
      "  Downloading pydantic-2.2.1-py3-none-any.whl.metadata (145 kB)\n",
      "     ---------------------------------------- 0.0/145.6 kB ? eta -:--:--\n",
      "     -------------------------------------- 145.6/145.6 kB 8.5 MB/s eta 0:00:00\n",
      "Requirement already satisfied: jinja2 in c:\\users\\ankita\\appdata\\local\\programs\\python\\python310\\lib\\site-packages (from spacy) (3.1.2)\n",
      "Requirement already satisfied: setuptools in c:\\users\\ankita\\appdata\\local\\programs\\python\\python310\\lib\\site-packages (from spacy) (65.5.0)\n",
      "Requirement already satisfied: packaging>=20.0 in c:\\users\\ankita\\appdata\\local\\programs\\python\\python310\\lib\\site-packages (from spacy) (23.1)\n",
      "Collecting langcodes<4.0.0,>=3.2.0 (from spacy)\n",
      "  Downloading langcodes-3.3.0-py3-none-any.whl (181 kB)\n",
      "     ---------------------------------------- 0.0/181.6 kB ? eta -:--:--\n",
      "     ------------------------------------- 181.6/181.6 kB 10.7 MB/s eta 0:00:00\n",
      "Collecting annotated-types>=0.4.0 (from pydantic!=1.8,!=1.8.1,<3.0.0,>=1.7.4->spacy)\n",
      "  Obtaining dependency information for annotated-types>=0.4.0 from https://files.pythonhosted.org/packages/d8/f0/a2ee543a96cc624c35a9086f39b1ed2aa403c6d355dfe47a11ee5c64a164/annotated_types-0.5.0-py3-none-any.whl.metadata\n",
      "  Downloading annotated_types-0.5.0-py3-none-any.whl.metadata (11 kB)\n",
      "Collecting pydantic-core==2.6.1 (from pydantic!=1.8,!=1.8.1,<3.0.0,>=1.7.4->spacy)\n",
      "  Obtaining dependency information for pydantic-core==2.6.1 from https://files.pythonhosted.org/packages/f0/69/bbf1353a2dd6c32e3f708257e76c8a2efc4dce7afff0bc1a1a5659a25f00/pydantic_core-2.6.1-cp310-none-win_amd64.whl.metadata\n",
      "  Downloading pydantic_core-2.6.1-cp310-none-win_amd64.whl.metadata (6.6 kB)\n",
      "Collecting typing-extensions>=4.6.1 (from pydantic!=1.8,!=1.8.1,<3.0.0,>=1.7.4->spacy)\n",
      "  Obtaining dependency information for typing-extensions>=4.6.1 from https://files.pythonhosted.org/packages/ec/6b/63cc3df74987c36fe26157ee12e09e8f9db4de771e0f3404263117e75b95/typing_extensions-4.7.1-py3-none-any.whl.metadata\n",
      "  Downloading typing_extensions-4.7.1-py3-none-any.whl.metadata (3.1 kB)\n",
      "Requirement already satisfied: charset-normalizer<4,>=2 in c:\\users\\ankita\\appdata\\local\\programs\\python\\python310\\lib\\site-packages (from requests<3.0.0,>=2.13.0->spacy) (3.2.0)\n",
      "Requirement already satisfied: idna<4,>=2.5 in c:\\users\\ankita\\appdata\\local\\programs\\python\\python310\\lib\\site-packages (from requests<3.0.0,>=2.13.0->spacy) (3.4)\n",
      "Requirement already satisfied: urllib3<3,>=1.21.1 in c:\\users\\ankita\\appdata\\local\\programs\\python\\python310\\lib\\site-packages (from requests<3.0.0,>=2.13.0->spacy) (1.26.16)\n",
      "Requirement already satisfied: certifi>=2017.4.17 in c:\\users\\ankita\\appdata\\local\\programs\\python\\python310\\lib\\site-packages (from requests<3.0.0,>=2.13.0->spacy) (2023.7.22)\n",
      "Collecting blis<0.8.0,>=0.7.8 (from thinc<8.2.0,>=8.1.8->spacy)\n",
      "  Obtaining dependency information for blis<0.8.0,>=0.7.8 from https://files.pythonhosted.org/packages/f2/3e/2af66dc38327ade0d37b4ed519ff05bd8b329cf88c2263778a2c595486a4/blis-0.7.10-cp310-cp310-win_amd64.whl.metadata\n",
      "  Downloading blis-0.7.10-cp310-cp310-win_amd64.whl.metadata (7.6 kB)\n",
      "Collecting confection<1.0.0,>=0.0.1 (from thinc<8.2.0,>=8.1.8->spacy)\n",
      "  Obtaining dependency information for confection<1.0.0,>=0.0.1 from https://files.pythonhosted.org/packages/05/5e/1a56e81e3335ce18f6742539edd2f6ea98bbf477fefc9a4dc5c0694bace4/confection-0.1.1-py3-none-any.whl.metadata\n",
      "  Downloading confection-0.1.1-py3-none-any.whl.metadata (19 kB)\n",
      "Requirement already satisfied: colorama in c:\\users\\ankita\\appdata\\local\\programs\\python\\python310\\lib\\site-packages (from tqdm<5.0.0,>=4.38.0->spacy) (0.4.6)\n",
      "Requirement already satisfied: click<9.0.0,>=7.1.1 in c:\\users\\ankita\\appdata\\local\\programs\\python\\python310\\lib\\site-packages (from typer<0.10.0,>=0.3.0->spacy) (8.1.6)\n",
      "Requirement already satisfied: MarkupSafe>=2.0 in c:\\users\\ankita\\appdata\\local\\programs\\python\\python310\\lib\\site-packages (from jinja2->spacy) (2.1.3)\n",
      "Downloading spacy-3.6.1-cp310-cp310-win_amd64.whl (12.0 MB)\n",
      "   ---------------------------------------- 0.0/12.0 MB ? eta -:--:--\n",
      "    --------------------------------------- 0.3/12.0 MB 8.3 MB/s eta 0:00:02\n",
      "   -- ------------------------------------- 0.8/12.0 MB 10.6 MB/s eta 0:00:02\n",
      "   ---- ----------------------------------- 1.3/12.0 MB 10.5 MB/s eta 0:00:02\n",
      "   ------ --------------------------------- 1.9/12.0 MB 11.0 MB/s eta 0:00:01\n",
      "   -------- ------------------------------- 2.5/12.0 MB 12.3 MB/s eta 0:00:01\n",
      "   --------- ------------------------------ 2.9/12.0 MB 11.0 MB/s eta 0:00:01\n",
      "   ----------- ---------------------------- 3.4/12.0 MB 12.1 MB/s eta 0:00:01\n",
      "   ------------- -------------------------- 4.1/12.0 MB 11.3 MB/s eta 0:00:01\n",
      "   -------------- ------------------------- 4.4/12.0 MB 10.7 MB/s eta 0:00:01\n",
      "   ---------------- ----------------------- 5.0/12.0 MB 11.1 MB/s eta 0:00:01\n",
      "   ----------------- ---------------------- 5.4/12.0 MB 10.7 MB/s eta 0:00:01\n",
      "   ------------------- -------------------- 5.8/12.0 MB 10.9 MB/s eta 0:00:01\n",
      "   --------------------- ------------------ 6.4/12.0 MB 11.0 MB/s eta 0:00:01\n",
      "   ---------------------- ----------------- 6.8/12.0 MB 10.8 MB/s eta 0:00:01\n",
      "   ----------------------- ---------------- 7.1/12.0 MB 10.4 MB/s eta 0:00:01\n",
      "   -------------------------- ------------- 7.9/12.0 MB 10.9 MB/s eta 0:00:01\n",
      "   ---------------------------- ----------- 8.5/12.0 MB 11.1 MB/s eta 0:00:01\n",
      "   ------------------------------ --------- 9.2/12.0 MB 11.3 MB/s eta 0:00:01\n",
      "   -------------------------------- ------- 9.9/12.0 MB 11.7 MB/s eta 0:00:01\n",
      "   ----------------------------------- ---- 10.6/12.0 MB 12.1 MB/s eta 0:00:01\n",
      "   ------------------------------------- -- 11.2/12.0 MB 11.9 MB/s eta 0:00:01\n",
      "   ---------------------------------------  12.0/12.0 MB 12.1 MB/s eta 0:00:01\n",
      "   ---------------------------------------- 12.0/12.0 MB 11.5 MB/s eta 0:00:00\n",
      "Downloading catalogue-2.0.9-py3-none-any.whl (17 kB)\n",
      "Downloading pathy-0.10.2-py3-none-any.whl (48 kB)\n",
      "   ---------------------------------------- 0.0/48.9 kB ? eta -:--:--\n",
      "   ---------------------------------------- 48.9/48.9 kB 2.4 MB/s eta 0:00:00\n",
      "Downloading pydantic-2.2.1-py3-none-any.whl (373 kB)\n",
      "   ---------------------------------------- 0.0/373.4 kB ? eta -:--:--\n",
      "   --------------------------------------- 373.4/373.4 kB 24.2 MB/s eta 0:00:00\n",
      "Downloading pydantic_core-2.6.1-cp310-none-win_amd64.whl (1.7 MB)\n",
      "   ---------------------------------------- 0.0/1.7 MB ? eta -:--:--\n",
      "   -------------------- ------------------- 0.9/1.7 MB 18.5 MB/s eta 0:00:01\n",
      "   ------------------------------ --------- 1.3/1.7 MB 13.8 MB/s eta 0:00:01\n",
      "   ---------------------------------------- 1.7/1.7 MB 11.1 MB/s eta 0:00:00\n",
      "Downloading srsly-2.4.7-cp310-cp310-win_amd64.whl (481 kB)\n",
      "   ---------------------------------------- 0.0/481.6 kB ? eta -:--:--\n",
      "   --------------------------------------- 481.6/481.6 kB 29.5 MB/s eta 0:00:00\n",
      "Downloading thinc-8.1.12-cp310-cp310-win_amd64.whl (1.5 MB)\n",
      "   ---------------------------------------- 0.0/1.5 MB ? eta -:--:--\n",
      "   ---------------- ----------------------- 0.6/1.5 MB 19.5 MB/s eta 0:00:01\n",
      "   -------------------------------- ------- 1.2/1.5 MB 19.0 MB/s eta 0:00:01\n",
      "   ---------------------------------------  1.5/1.5 MB 18.8 MB/s eta 0:00:01\n",
      "   ---------------------------------------- 1.5/1.5 MB 11.7 MB/s eta 0:00:00\n",
      "Downloading wasabi-1.1.2-py3-none-any.whl (27 kB)\n",
      "Downloading annotated_types-0.5.0-py3-none-any.whl (11 kB)\n",
      "Downloading blis-0.7.10-cp310-cp310-win_amd64.whl (7.4 MB)\n",
      "   ---------------------------------------- 0.0/7.4 MB ? eta -:--:--\n",
      "   ----- ---------------------------------- 1.0/7.4 MB 21.8 MB/s eta 0:00:01\n",
      "   --------- ------------------------------ 1.8/7.4 MB 16.8 MB/s eta 0:00:01\n",
      "   ------------- -------------------------- 2.5/7.4 MB 16.2 MB/s eta 0:00:01\n",
      "   ----------------- ---------------------- 3.2/7.4 MB 17.2 MB/s eta 0:00:01\n",
      "   ----------------------- ---------------- 4.3/7.4 MB 18.3 MB/s eta 0:00:01\n",
      "   --------------------------- ------------ 5.1/7.4 MB 17.2 MB/s eta 0:00:01\n",
      "   ------------------------------- -------- 5.9/7.4 MB 18.0 MB/s eta 0:00:01\n",
      "   ------------------------------------- -- 7.0/7.4 MB 18.0 MB/s eta 0:00:01\n",
      "   ---------------------------------------  7.4/7.4 MB 17.6 MB/s eta 0:00:01\n",
      "   ---------------------------------------- 7.4/7.4 MB 15.8 MB/s eta 0:00:00\n",
      "Downloading confection-0.1.1-py3-none-any.whl (34 kB)\n",
      "Using cached typing_extensions-4.7.1-py3-none-any.whl (33 kB)\n",
      "Installing collected packages: cymem, wasabi, typing-extensions, spacy-loggers, spacy-legacy, murmurhash, langcodes, catalogue, blis, annotated-types, typer, srsly, pydantic-core, preshed, pydantic, pathy, confection, thinc, spacy\n",
      "  Attempting uninstall: typing-extensions\n",
      "    Found existing installation: typing_extensions 4.5.0\n",
      "    Uninstalling typing_extensions-4.5.0:\n",
      "      Successfully uninstalled typing_extensions-4.5.0\n",
      "Successfully installed annotated-types-0.5.0 blis-0.7.10 catalogue-2.0.9 confection-0.1.1 cymem-2.0.7 langcodes-3.3.0 murmurhash-1.0.9 pathy-0.10.2 preshed-3.0.8 pydantic-2.2.1 pydantic-core-2.6.1 spacy-3.6.1 spacy-legacy-3.0.12 spacy-loggers-1.0.4 srsly-2.4.7 thinc-8.1.12 typer-0.9.0 typing-extensions-4.7.1 wasabi-1.1.2\n"
     ]
    },
    {
     "name": "stderr",
     "output_type": "stream",
     "text": [
      "ERROR: pip's dependency resolver does not currently take into account all the packages that are installed. This behaviour is the source of the following dependency conflicts.\n",
      "tensorflow-intel 2.13.0 requires typing-extensions<4.6.0,>=3.6.6, but you have typing-extensions 4.7.1 which is incompatible.\n"
     ]
    }
   ],
   "source": [
    "! pip install spacy"
   ]
  },
  {
   "cell_type": "code",
   "execution_count": 4,
   "metadata": {
    "colab": {
     "base_uri": "https://localhost:8080/"
    },
    "executionInfo": {
     "elapsed": 7719,
     "status": "ok",
     "timestamp": 1681571577943,
     "user": {
      "displayName": "Trainer Shivam",
      "userId": "00596309010820916419"
     },
     "user_tz": -330
    },
    "id": "9IaUfDBTdJhX",
    "outputId": "b73c2135-8f41-4739-89e3-960943ff9471"
   },
   "outputs": [
    {
     "name": "stdout",
     "output_type": "stream",
     "text": [
      "Name: spacy\n",
      "Version: 3.6.1\n",
      "Summary: Industrial-strength Natural Language Processing (NLP) in Python\n",
      "Home-page: https://spacy.io\n",
      "Author: Explosion\n",
      "Author-email: contact@explosion.ai\n",
      "License: MIT\n",
      "Location: c:\\users\\ankita\\appdata\\local\\programs\\python\\python310\\lib\\site-packages\n",
      "Requires: catalogue, cymem, jinja2, langcodes, murmurhash, numpy, packaging, pathy, preshed, pydantic, requests, setuptools, smart-open, spacy-legacy, spacy-loggers, srsly, thinc, tqdm, typer, wasabi\n",
      "Required-by: \n"
     ]
    }
   ],
   "source": [
    "! pip show spacy"
   ]
  },
  {
   "cell_type": "code",
   "execution_count": 5,
   "metadata": {
    "id": "ZZN6k978eY9B"
   },
   "outputs": [],
   "source": [
    "# Pre Trained Lang Models - en_core_web_sm"
   ]
  },
  {
   "cell_type": "code",
   "execution_count": 6,
   "metadata": {
    "id": "4ZZs9yKZhGWK"
   },
   "outputs": [],
   "source": [
    "text = \"\"\"\n",
    "One of the most difficult problems in finance right now is figuring out the fundamental economic value of cryptocurrencies. And the past week has complicated this further.\n",
    "For many cryptocurrency investors, the value of Bitcoin is based on the fact it is artificially scarce. A hard cap on “minting” new coins means there will only ever be 21 million Bitcoin in existence. And unlike national currencies such as the Australian dollar, the rate of release for new Bitcoin is slowing down over time.\n",
    "Dogecoin, a cryptocurrency that takes its name and logo from a Shiba Inu meme that was popular several years ago, does not have a cap. Launched in 2013, there are now 100 billion Dogecoin in existence, with as many as five billion new coins minted each year.\n",
    "\"\"\""
   ]
  },
  {
   "cell_type": "code",
   "execution_count": 7,
   "metadata": {
    "colab": {
     "base_uri": "https://localhost:8080/"
    },
    "executionInfo": {
     "elapsed": 2,
     "status": "ok",
     "timestamp": 1681572574062,
     "user": {
      "displayName": "Trainer Shivam",
      "userId": "00596309010820916419"
     },
     "user_tz": -330
    },
    "id": "kTkyhNrwhUxb",
    "outputId": "6406ce78-e849-428f-c334-f70f0fe9f8cb"
   },
   "outputs": [
    {
     "name": "stdout",
     "output_type": "stream",
     "text": [
      "\n",
      "One of the most difficult problems in finance right now is figuring out the fundamental economic value of cryptocurrencies. And the past week has complicated this further.\n",
      "For many cryptocurrency investors, the value of Bitcoin is based on the fact it is artificially scarce. A hard cap on “minting” new coins means there will only ever be 21 million Bitcoin in existence. And unlike national currencies such as the Australian dollar, the rate of release for new Bitcoin is slowing down over time.\n",
      "Dogecoin, a cryptocurrency that takes its name and logo from a Shiba Inu meme that was popular several years ago, does not have a cap. Launched in 2013, there are now 100 billion Dogecoin in existence, with as many as five billion new coins minted each year.\n",
      "\n"
     ]
    }
   ],
   "source": [
    "print(text)"
   ]
  },
  {
   "cell_type": "code",
   "execution_count": 8,
   "metadata": {
    "id": "WehEPO4fhaBn"
   },
   "outputs": [],
   "source": [
    "# Import Spacy\n",
    "import spacy"
   ]
  },
  {
   "cell_type": "code",
   "execution_count": 9,
   "metadata": {
    "colab": {
     "base_uri": "https://localhost:8080/"
    },
    "executionInfo": {
     "elapsed": 5296,
     "status": "ok",
     "timestamp": 1681572461665,
     "user": {
      "displayName": "Trainer Shivam",
      "userId": "00596309010820916419"
     },
     "user_tz": -330
    },
    "id": "rS0ikvrLhgeX",
    "outputId": "dafe1448-3f79-4f19-b202-3864b1e71615"
   },
   "outputs": [
    {
     "name": "stdout",
     "output_type": "stream",
     "text": [
      "\u001b[38;5;2m✔ Download and installation successful\u001b[0m\n",
      "You can now load the package via spacy.load('en_core_web_sm')\n"
     ]
    }
   ],
   "source": [
    "# Download English Model\n",
    "spacy.cli.download(\"en_core_web_sm\")"
   ]
  },
  {
   "cell_type": "code",
   "execution_count": 10,
   "metadata": {
    "id": "WjnkmSlzh2MA"
   },
   "outputs": [],
   "source": [
    "nlp = spacy.load(\"en_core_web_sm\")"
   ]
  },
  {
   "cell_type": "code",
   "execution_count": 11,
   "metadata": {
    "colab": {
     "base_uri": "https://localhost:8080/"
    },
    "executionInfo": {
     "elapsed": 7,
     "status": "ok",
     "timestamp": 1681572520050,
     "user": {
      "displayName": "Trainer Shivam",
      "userId": "00596309010820916419"
     },
     "user_tz": -330
    },
    "id": "z1Grt3UEiDCK",
    "outputId": "9c5bd0dc-ed3f-4ac7-b9fa-c896f459f30a"
   },
   "outputs": [
    {
     "data": {
      "text/plain": [
       "<spacy.lang.en.English at 0x1fab7406fb0>"
      ]
     },
     "execution_count": 11,
     "metadata": {},
     "output_type": "execute_result"
    }
   ],
   "source": [
    "nlp"
   ]
  },
  {
   "cell_type": "code",
   "execution_count": 12,
   "metadata": {
    "id": "7Zk1_nl3iFhY"
   },
   "outputs": [],
   "source": [
    "# Token!"
   ]
  },
  {
   "cell_type": "code",
   "execution_count": 13,
   "metadata": {
    "id": "VSJoDCGiiPAJ"
   },
   "outputs": [],
   "source": [
    "doc = nlp(text)"
   ]
  },
  {
   "cell_type": "code",
   "execution_count": 14,
   "metadata": {
    "colab": {
     "base_uri": "https://localhost:8080/"
    },
    "executionInfo": {
     "elapsed": 3,
     "status": "ok",
     "timestamp": 1681572599803,
     "user": {
      "displayName": "Trainer Shivam",
      "userId": "00596309010820916419"
     },
     "user_tz": -330
    },
    "id": "3-3ztvHOiX14",
    "outputId": "2b21434c-28ca-452e-c19a-79d77b5df7ae"
   },
   "outputs": [
    {
     "data": {
      "text/plain": [
       "\n",
       "One of the most difficult problems in finance right now is figuring out the fundamental economic value of cryptocurrencies. And the past week has complicated this further.\n",
       "For many cryptocurrency investors, the value of Bitcoin is based on the fact it is artificially scarce. A hard cap on “minting” new coins means there will only ever be 21 million Bitcoin in existence. And unlike national currencies such as the Australian dollar, the rate of release for new Bitcoin is slowing down over time.\n",
       "Dogecoin, a cryptocurrency that takes its name and logo from a Shiba Inu meme that was popular several years ago, does not have a cap. Launched in 2013, there are now 100 billion Dogecoin in existence, with as many as five billion new coins minted each year."
      ]
     },
     "execution_count": 14,
     "metadata": {},
     "output_type": "execute_result"
    }
   ],
   "source": [
    "doc"
   ]
  },
  {
   "cell_type": "code",
   "execution_count": 15,
   "metadata": {
    "colab": {
     "base_uri": "https://localhost:8080/"
    },
    "executionInfo": {
     "elapsed": 4,
     "status": "ok",
     "timestamp": 1681572630526,
     "user": {
      "displayName": "Trainer Shivam",
      "userId": "00596309010820916419"
     },
     "user_tz": -330
    },
    "id": "v3T3ikN-iYzD",
    "outputId": "9da656ad-5e46-4e65-b545-ee303d798ca3"
   },
   "outputs": [
    {
     "data": {
      "text/plain": [
       "spacy.tokens.doc.Doc"
      ]
     },
     "execution_count": 15,
     "metadata": {},
     "output_type": "execute_result"
    }
   ],
   "source": [
    "type(doc)"
   ]
  },
  {
   "cell_type": "code",
   "execution_count": 16,
   "metadata": {
    "colab": {
     "base_uri": "https://localhost:8080/"
    },
    "executionInfo": {
     "elapsed": 3,
     "status": "ok",
     "timestamp": 1681572801344,
     "user": {
      "displayName": "Trainer Shivam",
      "userId": "00596309010820916419"
     },
     "user_tz": -330
    },
    "id": "uWIVwZaWigfn",
    "outputId": "7bd6549d-d876-4ea6-aabc-5162249dbbea"
   },
   "outputs": [
    {
     "name": "stdout",
     "output_type": "stream",
     "text": [
      "\n",
      "One of the most difficult problems in finance right now is figuring out the fundamental economic value of cryptocurrencies.\n",
      "******************************\n",
      "And the past week has complicated this further.\n",
      "\n",
      "******************************\n",
      "For many cryptocurrency investors, the value of Bitcoin is based on the fact it is artificially scarce.\n",
      "******************************\n",
      "A hard cap on “minting” new coins means there will only ever be 21 million Bitcoin in existence.\n",
      "******************************\n",
      "And unlike national currencies such as the Australian dollar, the rate of release for new Bitcoin is slowing down over time.\n",
      "\n",
      "******************************\n",
      "Dogecoin, a cryptocurrency that takes its name and logo from a Shiba Inu meme that was popular several years ago, does not have a cap.\n",
      "******************************\n",
      "Launched in 2013, there are now 100 billion Dogecoin in existence, with as many as five billion new coins minted each year.\n",
      "\n",
      "******************************\n"
     ]
    }
   ],
   "source": [
    "sentences = []\n",
    "for sent in doc.sents:\n",
    "  print(sent)\n",
    "  sentences.append(sent)\n",
    "  print(\"******************************\")"
   ]
  },
  {
   "cell_type": "code",
   "execution_count": 17,
   "metadata": {
    "id": "U2dYhAnaimmO"
   },
   "outputs": [],
   "source": [
    "sentence1 = sentences[0]"
   ]
  },
  {
   "cell_type": "code",
   "execution_count": 18,
   "metadata": {
    "colab": {
     "base_uri": "https://localhost:8080/"
    },
    "executionInfo": {
     "elapsed": 4,
     "status": "ok",
     "timestamp": 1681572820275,
     "user": {
      "displayName": "Trainer Shivam",
      "userId": "00596309010820916419"
     },
     "user_tz": -330
    },
    "id": "7b1F9ZatjD9v",
    "outputId": "4a8257b6-9530-4a1d-cd51-99c18a20f6c0"
   },
   "outputs": [
    {
     "data": {
      "text/plain": [
       "\n",
       "One of the most difficult problems in finance right now is figuring out the fundamental economic value of cryptocurrencies."
      ]
     },
     "execution_count": 18,
     "metadata": {},
     "output_type": "execute_result"
    }
   ],
   "source": [
    "sentence1"
   ]
  },
  {
   "cell_type": "code",
   "execution_count": 19,
   "metadata": {
    "colab": {
     "base_uri": "https://localhost:8080/"
    },
    "executionInfo": {
     "elapsed": 3,
     "status": "ok",
     "timestamp": 1681572827330,
     "user": {
      "displayName": "Trainer Shivam",
      "userId": "00596309010820916419"
     },
     "user_tz": -330
    },
    "id": "5HclGKsxjPDf",
    "outputId": "65509d76-ee8d-4caa-eac4-2e3d437672fb"
   },
   "outputs": [
    {
     "data": {
      "text/plain": [
       "spacy.tokens.span.Span"
      ]
     },
     "execution_count": 19,
     "metadata": {},
     "output_type": "execute_result"
    }
   ],
   "source": [
    "type(sentence1)"
   ]
  },
  {
   "cell_type": "code",
   "execution_count": 20,
   "metadata": {
    "colab": {
     "base_uri": "https://localhost:8080/"
    },
    "executionInfo": {
     "elapsed": 3,
     "status": "ok",
     "timestamp": 1681572923451,
     "user": {
      "displayName": "Trainer Shivam",
      "userId": "00596309010820916419"
     },
     "user_tz": -330
    },
    "id": "7FAowIKljQtL",
    "outputId": "2dba34a3-e766-469d-f323-ce5e22952d2b"
   },
   "outputs": [
    {
     "name": "stdout",
     "output_type": "stream",
     "text": [
      "0 \t \n",
      "\n",
      "1 \t One\n",
      "2 \t of\n",
      "3 \t the\n",
      "4 \t most\n",
      "5 \t difficult\n",
      "6 \t problems\n",
      "7 \t in\n",
      "8 \t finance\n",
      "9 \t right\n",
      "10 \t now\n",
      "11 \t is\n",
      "12 \t figuring\n",
      "13 \t out\n",
      "14 \t the\n",
      "15 \t fundamental\n",
      "16 \t economic\n",
      "17 \t value\n",
      "18 \t of\n",
      "19 \t cryptocurrencies\n",
      "20 \t .\n"
     ]
    }
   ],
   "source": [
    "for index, word in enumerate(sentence1):\n",
    "  print(f\"{index} \\t {word}\")"
   ]
  },
  {
   "cell_type": "code",
   "execution_count": 21,
   "metadata": {
    "colab": {
     "base_uri": "https://localhost:8080/",
     "height": 35
    },
    "executionInfo": {
     "elapsed": 5,
     "status": "ok",
     "timestamp": 1681573230292,
     "user": {
      "displayName": "Trainer Shivam",
      "userId": "00596309010820916419"
     },
     "user_tz": -330
    },
    "id": "qTtuveTXjZWO",
    "outputId": "338a6037-827a-4356-f598-77bebdb17b14"
   },
   "outputs": [
    {
     "data": {
      "text/plain": [
       "'\\nOne of the most difficult problems in finance right now is figuring out the fundamental economic value of cryptocurrencies.'"
      ]
     },
     "execution_count": 21,
     "metadata": {},
     "output_type": "execute_result"
    }
   ],
   "source": [
    "sentence1.text"
   ]
  },
  {
   "cell_type": "code",
   "execution_count": 22,
   "metadata": {
    "colab": {
     "base_uri": "https://localhost:8080/"
    },
    "executionInfo": {
     "elapsed": 3,
     "status": "ok",
     "timestamp": 1681573377649,
     "user": {
      "displayName": "Trainer Shivam",
      "userId": "00596309010820916419"
     },
     "user_tz": -330
    },
    "id": "HgS1BEtRkbko",
    "outputId": "1e03752f-383f-4098-c91e-bbb8ab2c90d5"
   },
   "outputs": [
    {
     "name": "stdout",
     "output_type": "stream",
     "text": [
      "\n",
      " \t False\n",
      "One \t False\n",
      "of \t False\n",
      "the \t False\n",
      "most \t False\n",
      "difficult \t False\n",
      "problems \t False\n",
      "in \t False\n",
      "finance \t False\n",
      "right \t False\n",
      "now \t False\n",
      "is \t False\n",
      "figuring \t False\n",
      "out \t False\n",
      "the \t False\n",
      "fundamental \t False\n",
      "economic \t False\n",
      "value \t False\n",
      "of \t False\n",
      "cryptocurrencies \t False\n",
      ". \t True\n"
     ]
    }
   ],
   "source": [
    "for word in sentence1:\n",
    "  print(f\"{word.text} \\t {word.is_punct}\")"
   ]
  },
  {
   "cell_type": "code",
   "execution_count": 23,
   "metadata": {
    "id": "_zb9UT9DlVbO"
   },
   "outputs": [],
   "source": [
    "text2 = \"The steel cube with volume of 34 cubic c.m is not working. We need a better cub. This is costing us $20 per hour.\"\n",
    "doc2 = nlp(text2)"
   ]
  },
  {
   "cell_type": "code",
   "execution_count": 24,
   "metadata": {
    "colab": {
     "base_uri": "https://localhost:8080/"
    },
    "executionInfo": {
     "elapsed": 3,
     "status": "ok",
     "timestamp": 1681573931838,
     "user": {
      "displayName": "Trainer Shivam",
      "userId": "00596309010820916419"
     },
     "user_tz": -330
    },
    "id": "v6qhZo79lljh",
    "outputId": "2e9cf11b-552f-496b-ca8c-6a1c43600f04"
   },
   "outputs": [
    {
     "name": "stdout",
     "output_type": "stream",
     "text": [
      "WORD \t\t\t PUNCT \t\t\t CURRENCY\n",
      "The \t\t\t False \t\t\t False\n",
      "steel \t\t\t False \t\t\t False\n",
      "cube \t\t\t False \t\t\t False\n",
      "with \t\t\t False \t\t\t False\n",
      "volume \t\t\t False \t\t\t False\n",
      "of \t\t\t False \t\t\t False\n",
      "34 \t\t\t False \t\t\t False\n",
      "cubic \t\t\t False \t\t\t False\n",
      "c.m \t\t\t False \t\t\t False\n",
      "is \t\t\t False \t\t\t False\n",
      "not \t\t\t False \t\t\t False\n",
      "working \t\t\t False \t\t\t False\n",
      ". \t\t\t True \t\t\t False\n",
      "We \t\t\t False \t\t\t False\n",
      "need \t\t\t False \t\t\t False\n",
      "a \t\t\t False \t\t\t False\n",
      "better \t\t\t False \t\t\t False\n",
      "cub \t\t\t False \t\t\t False\n",
      ". \t\t\t True \t\t\t False\n",
      "This \t\t\t False \t\t\t False\n",
      "is \t\t\t False \t\t\t False\n",
      "costing \t\t\t False \t\t\t False\n",
      "us \t\t\t False \t\t\t False\n",
      "$ \t\t\t False \t\t\t True\n",
      "20 \t\t\t False \t\t\t False\n",
      "per \t\t\t False \t\t\t False\n",
      "hour \t\t\t False \t\t\t False\n",
      ". \t\t\t True \t\t\t False\n"
     ]
    }
   ],
   "source": [
    "print(\"WORD \\t\\t\\t PUNCT \\t\\t\\t CURRENCY\")\n",
    "for word in doc2:\n",
    "  print(f\"{word.text} \\t\\t\\t {word.is_punct} \\t\\t\\t {word.is_currency}\")"
   ]
  },
  {
   "cell_type": "code",
   "execution_count": 25,
   "metadata": {
    "colab": {
     "base_uri": "https://localhost:8080/"
    },
    "executionInfo": {
     "elapsed": 449,
     "status": "ok",
     "timestamp": 1681575513047,
     "user": {
      "displayName": "Trainer Shivam",
      "userId": "00596309010820916419"
     },
     "user_tz": -330
    },
    "id": "z_4ajUEqlyEp",
    "outputId": "880900ed-4fd5-4df9-e1ab-883d6e17e9ca"
   },
   "outputs": [
    {
     "name": "stdout",
     "output_type": "stream",
     "text": [
      "The \t\t\t True\n",
      "steel \t\t\t False\n",
      "cube \t\t\t False\n",
      "with \t\t\t True\n",
      "volume \t\t\t False\n",
      "of \t\t\t True\n",
      "34 \t\t\t False\n",
      "cubic \t\t\t False\n",
      "c.m \t\t\t False\n",
      "is \t\t\t True\n",
      "not \t\t\t True\n",
      "working \t\t\t False\n",
      ". \t\t\t False\n",
      "We \t\t\t True\n",
      "need \t\t\t False\n",
      "a \t\t\t True\n",
      "better \t\t\t False\n",
      "cub \t\t\t False\n",
      ". \t\t\t False\n",
      "This \t\t\t True\n",
      "is \t\t\t True\n",
      "costing \t\t\t False\n",
      "us \t\t\t True\n",
      "$ \t\t\t False\n",
      "20 \t\t\t False\n",
      "per \t\t\t True\n",
      "hour \t\t\t False\n",
      ". \t\t\t False\n"
     ]
    }
   ],
   "source": [
    "# STOPWORD\n",
    "for word in doc2:\n",
    "  print(f\"{word.text} \\t\\t\\t {word.is_stop}\")"
   ]
  },
  {
   "cell_type": "code",
   "execution_count": 26,
   "metadata": {
    "colab": {
     "base_uri": "https://localhost:8080/"
    },
    "executionInfo": {
     "elapsed": 4,
     "status": "ok",
     "timestamp": 1681575674291,
     "user": {
      "displayName": "Trainer Shivam",
      "userId": "00596309010820916419"
     },
     "user_tz": -330
    },
    "id": "M-lP-Aqkn7Z1",
    "outputId": "9da6d48b-25c3-4280-afca-68b19ee50b1c"
   },
   "outputs": [
    {
     "data": {
      "text/plain": [
       "\n",
       "One of the most difficult problems in finance right now is figuring out the fundamental economic value of cryptocurrencies. And the past week has complicated this further.\n",
       "For many cryptocurrency investors, the value of Bitcoin is based on the fact it is artificially scarce. A hard cap on “minting” new coins means there will only ever be 21 million Bitcoin in existence. And unlike national currencies such as the Australian dollar, the rate of release for new Bitcoin is slowing down over time.\n",
       "Dogecoin, a cryptocurrency that takes its name and logo from a Shiba Inu meme that was popular several years ago, does not have a cap. Launched in 2013, there are now 100 billion Dogecoin in existence, with as many as five billion new coins minted each year."
      ]
     },
     "execution_count": 26,
     "metadata": {},
     "output_type": "execute_result"
    }
   ],
   "source": [
    "doc"
   ]
  },
  {
   "cell_type": "code",
   "execution_count": 27,
   "metadata": {
    "colab": {
     "base_uri": "https://localhost:8080/"
    },
    "executionInfo": {
     "elapsed": 4,
     "status": "ok",
     "timestamp": 1681575744248,
     "user": {
      "displayName": "Trainer Shivam",
      "userId": "00596309010820916419"
     },
     "user_tz": -330
    },
    "id": "MBP3-h35uHvb",
    "outputId": "5ed7c2c7-ef2d-4ea2-da5a-d693e4fbba16"
   },
   "outputs": [
    {
     "name": "stdout",
     "output_type": "stream",
     "text": [
      "One \t\t\t\t\t\t CARDINAL\n",
      "the past week \t\t\t\t\t\t DATE\n",
      "Bitcoin \t\t\t\t\t\t PERSON\n",
      "21 million \t\t\t\t\t\t CARDINAL\n",
      "Australian \t\t\t\t\t\t NORP\n",
      "Bitcoin \t\t\t\t\t\t PERSON\n",
      "Dogecoin \t\t\t\t\t\t ORG\n",
      "Shiba \t\t\t\t\t\t GPE\n",
      "several years ago \t\t\t\t\t\t DATE\n",
      "2013 \t\t\t\t\t\t DATE\n",
      "100 billion Dogecoin \t\t\t\t\t\t MONEY\n",
      "as many as five billion \t\t\t\t\t\t CARDINAL\n",
      "each year \t\t\t\t\t\t DATE\n"
     ]
    }
   ],
   "source": [
    "# Entities\n",
    "for ent in doc.ents:\n",
    "  print(f\"{ent.text} \\t\\t\\t\\t\\t\\t {ent.label_}\")"
   ]
  },
  {
   "cell_type": "code",
   "execution_count": 28,
   "metadata": {
    "colab": {
     "base_uri": "https://localhost:8080/",
     "height": 227
    },
    "executionInfo": {
     "elapsed": 8,
     "status": "ok",
     "timestamp": 1681575902800,
     "user": {
      "displayName": "Trainer Shivam",
      "userId": "00596309010820916419"
     },
     "user_tz": -330
    },
    "id": "pYKoFCkNuSBD",
    "outputId": "96e794c3-b896-4c6f-defc-27b839449068"
   },
   "outputs": [
    {
     "data": {
      "text/html": [
       "<span class=\"tex2jax_ignore\"><div class=\"entities\" style=\"line-height: 2.5; direction: ltr\"><br>\n",
       "<mark class=\"entity\" style=\"background: #e4e7d2; padding: 0.45em 0.6em; margin: 0 0.25em; line-height: 1; border-radius: 0.35em;\">\n",
       "    One\n",
       "    <span style=\"font-size: 0.8em; font-weight: bold; line-height: 1; border-radius: 0.35em; vertical-align: middle; margin-left: 0.5rem\">CARDINAL</span>\n",
       "</mark>\n",
       " of the most difficult problems in finance right now is figuring out the fundamental economic value of cryptocurrencies. And \n",
       "<mark class=\"entity\" style=\"background: #bfe1d9; padding: 0.45em 0.6em; margin: 0 0.25em; line-height: 1; border-radius: 0.35em;\">\n",
       "    the past week\n",
       "    <span style=\"font-size: 0.8em; font-weight: bold; line-height: 1; border-radius: 0.35em; vertical-align: middle; margin-left: 0.5rem\">DATE</span>\n",
       "</mark>\n",
       " has complicated this further.<br>For many cryptocurrency investors, the value of \n",
       "<mark class=\"entity\" style=\"background: #aa9cfc; padding: 0.45em 0.6em; margin: 0 0.25em; line-height: 1; border-radius: 0.35em;\">\n",
       "    Bitcoin\n",
       "    <span style=\"font-size: 0.8em; font-weight: bold; line-height: 1; border-radius: 0.35em; vertical-align: middle; margin-left: 0.5rem\">PERSON</span>\n",
       "</mark>\n",
       " is based on the fact it is artificially scarce. A hard cap on “minting” new coins means there will only ever be \n",
       "<mark class=\"entity\" style=\"background: #e4e7d2; padding: 0.45em 0.6em; margin: 0 0.25em; line-height: 1; border-radius: 0.35em;\">\n",
       "    21 million\n",
       "    <span style=\"font-size: 0.8em; font-weight: bold; line-height: 1; border-radius: 0.35em; vertical-align: middle; margin-left: 0.5rem\">CARDINAL</span>\n",
       "</mark>\n",
       " Bitcoin in existence. And unlike national currencies such as the \n",
       "<mark class=\"entity\" style=\"background: #c887fb; padding: 0.45em 0.6em; margin: 0 0.25em; line-height: 1; border-radius: 0.35em;\">\n",
       "    Australian\n",
       "    <span style=\"font-size: 0.8em; font-weight: bold; line-height: 1; border-radius: 0.35em; vertical-align: middle; margin-left: 0.5rem\">NORP</span>\n",
       "</mark>\n",
       " dollar, the rate of release for new \n",
       "<mark class=\"entity\" style=\"background: #aa9cfc; padding: 0.45em 0.6em; margin: 0 0.25em; line-height: 1; border-radius: 0.35em;\">\n",
       "    Bitcoin\n",
       "    <span style=\"font-size: 0.8em; font-weight: bold; line-height: 1; border-radius: 0.35em; vertical-align: middle; margin-left: 0.5rem\">PERSON</span>\n",
       "</mark>\n",
       " is slowing down over time.<br>\n",
       "<mark class=\"entity\" style=\"background: #7aecec; padding: 0.45em 0.6em; margin: 0 0.25em; line-height: 1; border-radius: 0.35em;\">\n",
       "    Dogecoin\n",
       "    <span style=\"font-size: 0.8em; font-weight: bold; line-height: 1; border-radius: 0.35em; vertical-align: middle; margin-left: 0.5rem\">ORG</span>\n",
       "</mark>\n",
       ", a cryptocurrency that takes its name and logo from a \n",
       "<mark class=\"entity\" style=\"background: #feca74; padding: 0.45em 0.6em; margin: 0 0.25em; line-height: 1; border-radius: 0.35em;\">\n",
       "    Shiba\n",
       "    <span style=\"font-size: 0.8em; font-weight: bold; line-height: 1; border-radius: 0.35em; vertical-align: middle; margin-left: 0.5rem\">GPE</span>\n",
       "</mark>\n",
       " Inu meme that was popular \n",
       "<mark class=\"entity\" style=\"background: #bfe1d9; padding: 0.45em 0.6em; margin: 0 0.25em; line-height: 1; border-radius: 0.35em;\">\n",
       "    several years ago\n",
       "    <span style=\"font-size: 0.8em; font-weight: bold; line-height: 1; border-radius: 0.35em; vertical-align: middle; margin-left: 0.5rem\">DATE</span>\n",
       "</mark>\n",
       ", does not have a cap. Launched in \n",
       "<mark class=\"entity\" style=\"background: #bfe1d9; padding: 0.45em 0.6em; margin: 0 0.25em; line-height: 1; border-radius: 0.35em;\">\n",
       "    2013\n",
       "    <span style=\"font-size: 0.8em; font-weight: bold; line-height: 1; border-radius: 0.35em; vertical-align: middle; margin-left: 0.5rem\">DATE</span>\n",
       "</mark>\n",
       ", there are now \n",
       "<mark class=\"entity\" style=\"background: #e4e7d2; padding: 0.45em 0.6em; margin: 0 0.25em; line-height: 1; border-radius: 0.35em;\">\n",
       "    100 billion Dogecoin\n",
       "    <span style=\"font-size: 0.8em; font-weight: bold; line-height: 1; border-radius: 0.35em; vertical-align: middle; margin-left: 0.5rem\">MONEY</span>\n",
       "</mark>\n",
       " in existence, with \n",
       "<mark class=\"entity\" style=\"background: #e4e7d2; padding: 0.45em 0.6em; margin: 0 0.25em; line-height: 1; border-radius: 0.35em;\">\n",
       "    as many as five billion\n",
       "    <span style=\"font-size: 0.8em; font-weight: bold; line-height: 1; border-radius: 0.35em; vertical-align: middle; margin-left: 0.5rem\">CARDINAL</span>\n",
       "</mark>\n",
       " new coins minted \n",
       "<mark class=\"entity\" style=\"background: #bfe1d9; padding: 0.45em 0.6em; margin: 0 0.25em; line-height: 1; border-radius: 0.35em;\">\n",
       "    each year\n",
       "    <span style=\"font-size: 0.8em; font-weight: bold; line-height: 1; border-radius: 0.35em; vertical-align: middle; margin-left: 0.5rem\">DATE</span>\n",
       "</mark>\n",
       ".<br></div></span>"
      ],
      "text/plain": [
       "<IPython.core.display.HTML object>"
      ]
     },
     "metadata": {},
     "output_type": "display_data"
    }
   ],
   "source": [
    "spacy.displacy.render(doc, style='ent', jupyter=True)"
   ]
  },
  {
   "cell_type": "code",
   "execution_count": 29,
   "metadata": {
    "colab": {
     "base_uri": "https://localhost:8080/"
    },
    "executionInfo": {
     "elapsed": 4,
     "status": "ok",
     "timestamp": 1681576167362,
     "user": {
      "displayName": "Trainer Shivam",
      "userId": "00596309010820916419"
     },
     "user_tz": -330
    },
    "id": "OpQm6G1iu_fh",
    "outputId": "df8b3aee-9d12-4295-9843-484b71a0e57c"
   },
   "outputs": [
    {
     "data": {
      "text/plain": [
       "\n",
       "One of the most difficult problems in finance right now is figuring out the fundamental economic value of cryptocurrencies. And the past week has complicated this further.\n",
       "For many cryptocurrency investors, the value of Bitcoin is based on the fact it is artificially scarce. A hard cap on “minting” new coins means there will only ever be 21 million Bitcoin in existence. And unlike national currencies such as the Australian dollar, the rate of release for new Bitcoin is slowing down over time.\n",
       "Dogecoin, a cryptocurrency that takes its name and logo from a Shiba Inu meme that was popular several years ago, does not have a cap. Launched in 2013, there are now 100 billion Dogecoin in existence, with as many as five billion new coins minted each year."
      ]
     },
     "execution_count": 29,
     "metadata": {},
     "output_type": "execute_result"
    }
   ],
   "source": [
    "doc"
   ]
  },
  {
   "cell_type": "code",
   "execution_count": 30,
   "metadata": {
    "id": "rVVWbX5bwAG_"
   },
   "outputs": [],
   "source": [
    "stop_words = []\n",
    "non_stop_words = []\n",
    "\n",
    "for word in doc:\n",
    "  if word.is_stop:\n",
    "    stop_words.append(word)\n",
    "  else:\n",
    "    non_stop_words.append(word)"
   ]
  },
  {
   "cell_type": "code",
   "execution_count": 31,
   "metadata": {
    "colab": {
     "base_uri": "https://localhost:8080/"
    },
    "executionInfo": {
     "elapsed": 3,
     "status": "ok",
     "timestamp": 1681576364576,
     "user": {
      "displayName": "Trainer Shivam",
      "userId": "00596309010820916419"
     },
     "user_tz": -330
    },
    "id": "2tbMZU1Dwcdc",
    "outputId": "b89733a0-3a09-4375-dc9f-cc9b7858ac37"
   },
   "outputs": [
    {
     "data": {
      "text/plain": [
       "67"
      ]
     },
     "execution_count": 31,
     "metadata": {},
     "output_type": "execute_result"
    }
   ],
   "source": [
    "len(stop_words)"
   ]
  },
  {
   "cell_type": "code",
   "execution_count": 32,
   "metadata": {
    "colab": {
     "base_uri": "https://localhost:8080/"
    },
    "executionInfo": {
     "elapsed": 3,
     "status": "ok",
     "timestamp": 1681576371778,
     "user": {
      "displayName": "Trainer Shivam",
      "userId": "00596309010820916419"
     },
     "user_tz": -330
    },
    "id": "Y32Py69EwwP5",
    "outputId": "e674f931-262a-4d4c-8ce6-e883bc70c742"
   },
   "outputs": [
    {
     "data": {
      "text/plain": [
       "[One,\n",
       " of,\n",
       " the,\n",
       " most,\n",
       " in,\n",
       " now,\n",
       " is,\n",
       " out,\n",
       " the,\n",
       " of,\n",
       " And,\n",
       " the,\n",
       " has,\n",
       " this,\n",
       " further,\n",
       " For,\n",
       " many,\n",
       " the,\n",
       " of,\n",
       " is,\n",
       " on,\n",
       " the,\n",
       " it,\n",
       " is,\n",
       " A,\n",
       " on,\n",
       " there,\n",
       " will,\n",
       " only,\n",
       " ever,\n",
       " be,\n",
       " in,\n",
       " And,\n",
       " such,\n",
       " as,\n",
       " the,\n",
       " the,\n",
       " of,\n",
       " for,\n",
       " is,\n",
       " down,\n",
       " over,\n",
       " a,\n",
       " that,\n",
       " its,\n",
       " name,\n",
       " and,\n",
       " from,\n",
       " a,\n",
       " that,\n",
       " was,\n",
       " several,\n",
       " does,\n",
       " not,\n",
       " have,\n",
       " a,\n",
       " in,\n",
       " there,\n",
       " are,\n",
       " now,\n",
       " in,\n",
       " with,\n",
       " as,\n",
       " many,\n",
       " as,\n",
       " five,\n",
       " each]"
      ]
     },
     "execution_count": 32,
     "metadata": {},
     "output_type": "execute_result"
    }
   ],
   "source": [
    "stop_words"
   ]
  },
  {
   "cell_type": "code",
   "execution_count": 33,
   "metadata": {
    "colab": {
     "base_uri": "https://localhost:8080/"
    },
    "executionInfo": {
     "elapsed": 3,
     "status": "ok",
     "timestamp": 1681576392710,
     "user": {
      "displayName": "Trainer Shivam",
      "userId": "00596309010820916419"
     },
     "user_tz": -330
    },
    "id": "Af2USEzPwxVP",
    "outputId": "1acd45f8-0f96-4dcd-d1b9-5d23b79816a0"
   },
   "outputs": [
    {
     "data": {
      "text/plain": [
       "[,\n",
       " difficult,\n",
       " problems,\n",
       " finance,\n",
       " right,\n",
       " figuring,\n",
       " fundamental,\n",
       " economic,\n",
       " value,\n",
       " cryptocurrencies,\n",
       " .,\n",
       " past,\n",
       " week,\n",
       " complicated,\n",
       " .,\n",
       " ,\n",
       " cryptocurrency,\n",
       " investors,\n",
       " ,,\n",
       " value,\n",
       " Bitcoin,\n",
       " based,\n",
       " fact,\n",
       " artificially,\n",
       " scarce,\n",
       " .,\n",
       " hard,\n",
       " cap,\n",
       " “,\n",
       " minting,\n",
       " ”,\n",
       " new,\n",
       " coins,\n",
       " means,\n",
       " 21,\n",
       " million,\n",
       " Bitcoin,\n",
       " existence,\n",
       " .,\n",
       " unlike,\n",
       " national,\n",
       " currencies,\n",
       " Australian,\n",
       " dollar,\n",
       " ,,\n",
       " rate,\n",
       " release,\n",
       " new,\n",
       " Bitcoin,\n",
       " slowing,\n",
       " time,\n",
       " .,\n",
       " ,\n",
       " Dogecoin,\n",
       " ,,\n",
       " cryptocurrency,\n",
       " takes,\n",
       " logo,\n",
       " Shiba,\n",
       " Inu,\n",
       " meme,\n",
       " popular,\n",
       " years,\n",
       " ago,\n",
       " ,,\n",
       " cap,\n",
       " .,\n",
       " Launched,\n",
       " 2013,\n",
       " ,,\n",
       " 100,\n",
       " billion,\n",
       " Dogecoin,\n",
       " existence,\n",
       " ,,\n",
       " billion,\n",
       " new,\n",
       " coins,\n",
       " minted,\n",
       " year,\n",
       " .,\n",
       " ]"
      ]
     },
     "execution_count": 33,
     "metadata": {},
     "output_type": "execute_result"
    }
   ],
   "source": [
    "non_stop_words"
   ]
  },
  {
   "cell_type": "code",
   "execution_count": 34,
   "metadata": {
    "id": "PNCdkyCsw3Ew"
   },
   "outputs": [],
   "source": [
    "# lets remove puct also\n",
    "non_punct_non_stop_word = []\n",
    "for word in doc:\n",
    "  if word.is_stop == False:\n",
    "    if word.is_punct == False:\n",
    "      if word.text != \"\\n\":\n",
    "        non_punct_non_stop_word.append(word.text)\n"
   ]
  },
  {
   "cell_type": "code",
   "execution_count": 35,
   "metadata": {
    "colab": {
     "base_uri": "https://localhost:8080/"
    },
    "executionInfo": {
     "elapsed": 4,
     "status": "ok",
     "timestamp": 1681576757880,
     "user": {
      "displayName": "Trainer Shivam",
      "userId": "00596309010820916419"
     },
     "user_tz": -330
    },
    "id": "EchFRRkixPco",
    "outputId": "8484260f-9cec-4bf7-f046-3bba3c21461a"
   },
   "outputs": [
    {
     "name": "stdout",
     "output_type": "stream",
     "text": [
      "['difficult', 'problems', 'finance', 'right', 'figuring', 'fundamental', 'economic', 'value', 'cryptocurrencies', 'past', 'week', 'complicated', 'cryptocurrency', 'investors', 'value', 'Bitcoin', 'based', 'fact', 'artificially', 'scarce', 'hard', 'cap', 'minting', 'new', 'coins', 'means', '21', 'million', 'Bitcoin', 'existence', 'unlike', 'national', 'currencies', 'Australian', 'dollar', 'rate', 'release', 'new', 'Bitcoin', 'slowing', 'time', 'Dogecoin', 'cryptocurrency', 'takes', 'logo', 'Shiba', 'Inu', 'meme', 'popular', 'years', 'ago', 'cap', 'Launched', '2013', '100', 'billion', 'Dogecoin', 'existence', 'billion', 'new', 'coins', 'minted', 'year']\n"
     ]
    }
   ],
   "source": [
    "print(non_punct_non_stop_word)"
   ]
  },
  {
   "cell_type": "code",
   "execution_count": 36,
   "metadata": {
    "id": "rdffvkXxx0i2"
   },
   "outputs": [],
   "source": [
    "non_punct_non_stop_word = [i.lower() for i in non_punct_non_stop_word]"
   ]
  },
  {
   "cell_type": "code",
   "execution_count": 37,
   "metadata": {
    "id": "GKakCTQdyAuk"
   },
   "outputs": [],
   "source": [
    "# non_punct_non_stop_word"
   ]
  },
  {
   "cell_type": "code",
   "execution_count": 38,
   "metadata": {
    "id": "EkWaNZd_xP1J"
   },
   "outputs": [],
   "source": [
    "from collections import Counter"
   ]
  },
  {
   "cell_type": "code",
   "execution_count": 39,
   "metadata": {
    "id": "tOGSi6qlxj7_"
   },
   "outputs": [],
   "source": [
    "c = Counter(non_punct_non_stop_word)"
   ]
  },
  {
   "cell_type": "code",
   "execution_count": 40,
   "metadata": {
    "colab": {
     "base_uri": "https://localhost:8080/"
    },
    "executionInfo": {
     "elapsed": 3,
     "status": "ok",
     "timestamp": 1681576902215,
     "user": {
      "displayName": "Trainer Shivam",
      "userId": "00596309010820916419"
     },
     "user_tz": -330
    },
    "id": "WtKNleZbxqWz",
    "outputId": "b122bda1-fe8d-41e7-d157-70da8adde4ed"
   },
   "outputs": [
    {
     "data": {
      "text/plain": [
       "[('bitcoin', 3),\n",
       " ('new', 3),\n",
       " ('value', 2),\n",
       " ('cryptocurrency', 2),\n",
       " ('cap', 2),\n",
       " ('coins', 2),\n",
       " ('existence', 2),\n",
       " ('dogecoin', 2),\n",
       " ('billion', 2),\n",
       " ('difficult', 1)]"
      ]
     },
     "execution_count": 40,
     "metadata": {},
     "output_type": "execute_result"
    }
   ],
   "source": [
    "c.most_common(10)"
   ]
  },
  {
   "cell_type": "markdown",
   "metadata": {
    "id": "JSoBQMSJwUah"
   },
   "source": [
    "# Day2"
   ]
  },
  {
   "cell_type": "markdown",
   "metadata": {
    "id": "l8wYg55ghkdA"
   },
   "source": [
    "https://www.kaggle.com/datasets/vishalsubbiah/pokemon-images-and-types\n",
    "\n",
    "https://colah.github.io/posts/2015-08-Understanding-LSTMs/"
   ]
  },
  {
   "cell_type": "code",
   "execution_count": 41,
   "metadata": {
    "colab": {
     "background_save": true
    },
    "id": "0xu_XoDpgksc"
   },
   "outputs": [],
   "source": [
    "import spacy"
   ]
  },
  {
   "cell_type": "code",
   "execution_count": 42,
   "metadata": {
    "colab": {
     "background_save": true
    },
    "id": "TqhULvw2hXN1"
   },
   "outputs": [
    {
     "name": "stdout",
     "output_type": "stream",
     "text": [
      "\u001b[38;5;3m⚠ As of spaCy v3.0, shortcuts like 'en' are deprecated. Please use the\n",
      "full pipeline package name 'en_core_web_sm' instead.\u001b[0m\n",
      "\u001b[38;5;2m✔ Download and installation successful\u001b[0m\n",
      "You can now load the package via spacy.load('en_core_web_sm')\n"
     ]
    }
   ],
   "source": [
    "spacy.cli.download(\"en\")"
   ]
  },
  {
   "cell_type": "code",
   "execution_count": 43,
   "metadata": {
    "colab": {
     "background_save": true
    },
    "id": "wLDx5wb6hfv8"
   },
   "outputs": [],
   "source": [
    "nlp = spacy.load(\"en_core_web_sm\")"
   ]
  },
  {
   "cell_type": "code",
   "execution_count": 44,
   "metadata": {
    "colab": {
     "background_save": true
    },
    "id": "XfhjMpPWgspc"
   },
   "outputs": [],
   "source": [
    "doc = nlp(\"Sam is a wonderful guy, he is a good actor too. He lives in London.\")"
   ]
  },
  {
   "cell_type": "code",
   "execution_count": 45,
   "metadata": {
    "colab": {
     "background_save": true
    },
    "id": "TbFd_da7hV9v"
   },
   "outputs": [
    {
     "name": "stdout",
     "output_type": "stream",
     "text": [
      "Sam, PERSON\n",
      "London, GPE\n"
     ]
    }
   ],
   "source": [
    "for ent in doc.ents:\n",
    "  print(f\"{ent.text}, {ent.label_}\")"
   ]
  },
  {
   "cell_type": "code",
   "execution_count": 46,
   "metadata": {
    "colab": {
     "background_save": true
    },
    "id": "-LQYT5kJhpUv"
   },
   "outputs": [
    {
     "name": "stdout",
     "output_type": "stream",
     "text": [
      "Sam, PROPN\n",
      "is, AUX\n",
      "a, DET\n",
      "wonderful, ADJ\n",
      "guy, NOUN\n",
      ",, PUNCT\n",
      "he, PRON\n",
      "is, AUX\n",
      "a, DET\n",
      "good, ADJ\n",
      "actor, NOUN\n",
      "too, ADV\n",
      "., PUNCT\n",
      "He, PRON\n",
      "lives, VERB\n",
      "in, ADP\n",
      "London, PROPN\n",
      "., PUNCT\n"
     ]
    }
   ],
   "source": [
    "for word in doc:\n",
    "  print(f\"{word.text}, {word.pos_}\")"
   ]
  },
  {
   "cell_type": "code",
   "execution_count": 47,
   "metadata": {
    "colab": {
     "background_save": true
    },
    "id": "rmzwY-SDiy7a"
   },
   "outputs": [
    {
     "data": {
      "text/html": [
       "<span class=\"tex2jax_ignore\"><svg xmlns=\"http://www.w3.org/2000/svg\" xmlns:xlink=\"http://www.w3.org/1999/xlink\" xml:lang=\"en\" id=\"f430225e336a4506859d8debbaf86b1c-0\" class=\"displacy\" width=\"2675\" height=\"487.0\" direction=\"ltr\" style=\"max-width: none; height: 487.0px; color: #000000; background: #ffffff; font-family: Arial; direction: ltr\">\n",
       "<text class=\"displacy-token\" fill=\"currentColor\" text-anchor=\"middle\" y=\"397.0\">\n",
       "    <tspan class=\"displacy-word\" fill=\"currentColor\" x=\"50\">Sam</tspan>\n",
       "    <tspan class=\"displacy-tag\" dy=\"2em\" fill=\"currentColor\" x=\"50\">PROPN</tspan>\n",
       "</text>\n",
       "\n",
       "<text class=\"displacy-token\" fill=\"currentColor\" text-anchor=\"middle\" y=\"397.0\">\n",
       "    <tspan class=\"displacy-word\" fill=\"currentColor\" x=\"225\">is</tspan>\n",
       "    <tspan class=\"displacy-tag\" dy=\"2em\" fill=\"currentColor\" x=\"225\">AUX</tspan>\n",
       "</text>\n",
       "\n",
       "<text class=\"displacy-token\" fill=\"currentColor\" text-anchor=\"middle\" y=\"397.0\">\n",
       "    <tspan class=\"displacy-word\" fill=\"currentColor\" x=\"400\">a</tspan>\n",
       "    <tspan class=\"displacy-tag\" dy=\"2em\" fill=\"currentColor\" x=\"400\">DET</tspan>\n",
       "</text>\n",
       "\n",
       "<text class=\"displacy-token\" fill=\"currentColor\" text-anchor=\"middle\" y=\"397.0\">\n",
       "    <tspan class=\"displacy-word\" fill=\"currentColor\" x=\"575\">wonderful</tspan>\n",
       "    <tspan class=\"displacy-tag\" dy=\"2em\" fill=\"currentColor\" x=\"575\">ADJ</tspan>\n",
       "</text>\n",
       "\n",
       "<text class=\"displacy-token\" fill=\"currentColor\" text-anchor=\"middle\" y=\"397.0\">\n",
       "    <tspan class=\"displacy-word\" fill=\"currentColor\" x=\"750\">guy,</tspan>\n",
       "    <tspan class=\"displacy-tag\" dy=\"2em\" fill=\"currentColor\" x=\"750\">NOUN</tspan>\n",
       "</text>\n",
       "\n",
       "<text class=\"displacy-token\" fill=\"currentColor\" text-anchor=\"middle\" y=\"397.0\">\n",
       "    <tspan class=\"displacy-word\" fill=\"currentColor\" x=\"925\">he</tspan>\n",
       "    <tspan class=\"displacy-tag\" dy=\"2em\" fill=\"currentColor\" x=\"925\">PRON</tspan>\n",
       "</text>\n",
       "\n",
       "<text class=\"displacy-token\" fill=\"currentColor\" text-anchor=\"middle\" y=\"397.0\">\n",
       "    <tspan class=\"displacy-word\" fill=\"currentColor\" x=\"1100\">is</tspan>\n",
       "    <tspan class=\"displacy-tag\" dy=\"2em\" fill=\"currentColor\" x=\"1100\">AUX</tspan>\n",
       "</text>\n",
       "\n",
       "<text class=\"displacy-token\" fill=\"currentColor\" text-anchor=\"middle\" y=\"397.0\">\n",
       "    <tspan class=\"displacy-word\" fill=\"currentColor\" x=\"1275\">a</tspan>\n",
       "    <tspan class=\"displacy-tag\" dy=\"2em\" fill=\"currentColor\" x=\"1275\">DET</tspan>\n",
       "</text>\n",
       "\n",
       "<text class=\"displacy-token\" fill=\"currentColor\" text-anchor=\"middle\" y=\"397.0\">\n",
       "    <tspan class=\"displacy-word\" fill=\"currentColor\" x=\"1450\">good</tspan>\n",
       "    <tspan class=\"displacy-tag\" dy=\"2em\" fill=\"currentColor\" x=\"1450\">ADJ</tspan>\n",
       "</text>\n",
       "\n",
       "<text class=\"displacy-token\" fill=\"currentColor\" text-anchor=\"middle\" y=\"397.0\">\n",
       "    <tspan class=\"displacy-word\" fill=\"currentColor\" x=\"1625\">actor</tspan>\n",
       "    <tspan class=\"displacy-tag\" dy=\"2em\" fill=\"currentColor\" x=\"1625\">NOUN</tspan>\n",
       "</text>\n",
       "\n",
       "<text class=\"displacy-token\" fill=\"currentColor\" text-anchor=\"middle\" y=\"397.0\">\n",
       "    <tspan class=\"displacy-word\" fill=\"currentColor\" x=\"1800\">too.</tspan>\n",
       "    <tspan class=\"displacy-tag\" dy=\"2em\" fill=\"currentColor\" x=\"1800\">ADV</tspan>\n",
       "</text>\n",
       "\n",
       "<text class=\"displacy-token\" fill=\"currentColor\" text-anchor=\"middle\" y=\"397.0\">\n",
       "    <tspan class=\"displacy-word\" fill=\"currentColor\" x=\"1975\">He</tspan>\n",
       "    <tspan class=\"displacy-tag\" dy=\"2em\" fill=\"currentColor\" x=\"1975\">PRON</tspan>\n",
       "</text>\n",
       "\n",
       "<text class=\"displacy-token\" fill=\"currentColor\" text-anchor=\"middle\" y=\"397.0\">\n",
       "    <tspan class=\"displacy-word\" fill=\"currentColor\" x=\"2150\">lives</tspan>\n",
       "    <tspan class=\"displacy-tag\" dy=\"2em\" fill=\"currentColor\" x=\"2150\">VERB</tspan>\n",
       "</text>\n",
       "\n",
       "<text class=\"displacy-token\" fill=\"currentColor\" text-anchor=\"middle\" y=\"397.0\">\n",
       "    <tspan class=\"displacy-word\" fill=\"currentColor\" x=\"2325\">in</tspan>\n",
       "    <tspan class=\"displacy-tag\" dy=\"2em\" fill=\"currentColor\" x=\"2325\">ADP</tspan>\n",
       "</text>\n",
       "\n",
       "<text class=\"displacy-token\" fill=\"currentColor\" text-anchor=\"middle\" y=\"397.0\">\n",
       "    <tspan class=\"displacy-word\" fill=\"currentColor\" x=\"2500\">London.</tspan>\n",
       "    <tspan class=\"displacy-tag\" dy=\"2em\" fill=\"currentColor\" x=\"2500\">PROPN</tspan>\n",
       "</text>\n",
       "\n",
       "<g class=\"displacy-arrow\">\n",
       "    <path class=\"displacy-arc\" id=\"arrow-f430225e336a4506859d8debbaf86b1c-0-0\" stroke-width=\"2px\" d=\"M70,352.0 C70,264.5 210.0,264.5 210.0,352.0\" fill=\"none\" stroke=\"currentColor\"/>\n",
       "    <text dy=\"1.25em\" style=\"font-size: 0.8em; letter-spacing: 1px\">\n",
       "        <textPath xlink:href=\"#arrow-f430225e336a4506859d8debbaf86b1c-0-0\" class=\"displacy-label\" startOffset=\"50%\" side=\"left\" fill=\"currentColor\" text-anchor=\"middle\">nsubj</textPath>\n",
       "    </text>\n",
       "    <path class=\"displacy-arrowhead\" d=\"M70,354.0 L62,342.0 78,342.0\" fill=\"currentColor\"/>\n",
       "</g>\n",
       "\n",
       "<g class=\"displacy-arrow\">\n",
       "    <path class=\"displacy-arc\" id=\"arrow-f430225e336a4506859d8debbaf86b1c-0-1\" stroke-width=\"2px\" d=\"M245,352.0 C245,2.0 1100.0,2.0 1100.0,352.0\" fill=\"none\" stroke=\"currentColor\"/>\n",
       "    <text dy=\"1.25em\" style=\"font-size: 0.8em; letter-spacing: 1px\">\n",
       "        <textPath xlink:href=\"#arrow-f430225e336a4506859d8debbaf86b1c-0-1\" class=\"displacy-label\" startOffset=\"50%\" side=\"left\" fill=\"currentColor\" text-anchor=\"middle\">ccomp</textPath>\n",
       "    </text>\n",
       "    <path class=\"displacy-arrowhead\" d=\"M245,354.0 L237,342.0 253,342.0\" fill=\"currentColor\"/>\n",
       "</g>\n",
       "\n",
       "<g class=\"displacy-arrow\">\n",
       "    <path class=\"displacy-arc\" id=\"arrow-f430225e336a4506859d8debbaf86b1c-0-2\" stroke-width=\"2px\" d=\"M420,352.0 C420,177.0 740.0,177.0 740.0,352.0\" fill=\"none\" stroke=\"currentColor\"/>\n",
       "    <text dy=\"1.25em\" style=\"font-size: 0.8em; letter-spacing: 1px\">\n",
       "        <textPath xlink:href=\"#arrow-f430225e336a4506859d8debbaf86b1c-0-2\" class=\"displacy-label\" startOffset=\"50%\" side=\"left\" fill=\"currentColor\" text-anchor=\"middle\">det</textPath>\n",
       "    </text>\n",
       "    <path class=\"displacy-arrowhead\" d=\"M420,354.0 L412,342.0 428,342.0\" fill=\"currentColor\"/>\n",
       "</g>\n",
       "\n",
       "<g class=\"displacy-arrow\">\n",
       "    <path class=\"displacy-arc\" id=\"arrow-f430225e336a4506859d8debbaf86b1c-0-3\" stroke-width=\"2px\" d=\"M595,352.0 C595,264.5 735.0,264.5 735.0,352.0\" fill=\"none\" stroke=\"currentColor\"/>\n",
       "    <text dy=\"1.25em\" style=\"font-size: 0.8em; letter-spacing: 1px\">\n",
       "        <textPath xlink:href=\"#arrow-f430225e336a4506859d8debbaf86b1c-0-3\" class=\"displacy-label\" startOffset=\"50%\" side=\"left\" fill=\"currentColor\" text-anchor=\"middle\">amod</textPath>\n",
       "    </text>\n",
       "    <path class=\"displacy-arrowhead\" d=\"M595,354.0 L587,342.0 603,342.0\" fill=\"currentColor\"/>\n",
       "</g>\n",
       "\n",
       "<g class=\"displacy-arrow\">\n",
       "    <path class=\"displacy-arc\" id=\"arrow-f430225e336a4506859d8debbaf86b1c-0-4\" stroke-width=\"2px\" d=\"M245,352.0 C245,89.5 745.0,89.5 745.0,352.0\" fill=\"none\" stroke=\"currentColor\"/>\n",
       "    <text dy=\"1.25em\" style=\"font-size: 0.8em; letter-spacing: 1px\">\n",
       "        <textPath xlink:href=\"#arrow-f430225e336a4506859d8debbaf86b1c-0-4\" class=\"displacy-label\" startOffset=\"50%\" side=\"left\" fill=\"currentColor\" text-anchor=\"middle\">attr</textPath>\n",
       "    </text>\n",
       "    <path class=\"displacy-arrowhead\" d=\"M745.0,354.0 L753.0,342.0 737.0,342.0\" fill=\"currentColor\"/>\n",
       "</g>\n",
       "\n",
       "<g class=\"displacy-arrow\">\n",
       "    <path class=\"displacy-arc\" id=\"arrow-f430225e336a4506859d8debbaf86b1c-0-5\" stroke-width=\"2px\" d=\"M945,352.0 C945,264.5 1085.0,264.5 1085.0,352.0\" fill=\"none\" stroke=\"currentColor\"/>\n",
       "    <text dy=\"1.25em\" style=\"font-size: 0.8em; letter-spacing: 1px\">\n",
       "        <textPath xlink:href=\"#arrow-f430225e336a4506859d8debbaf86b1c-0-5\" class=\"displacy-label\" startOffset=\"50%\" side=\"left\" fill=\"currentColor\" text-anchor=\"middle\">nsubj</textPath>\n",
       "    </text>\n",
       "    <path class=\"displacy-arrowhead\" d=\"M945,354.0 L937,342.0 953,342.0\" fill=\"currentColor\"/>\n",
       "</g>\n",
       "\n",
       "<g class=\"displacy-arrow\">\n",
       "    <path class=\"displacy-arc\" id=\"arrow-f430225e336a4506859d8debbaf86b1c-0-6\" stroke-width=\"2px\" d=\"M1295,352.0 C1295,177.0 1615.0,177.0 1615.0,352.0\" fill=\"none\" stroke=\"currentColor\"/>\n",
       "    <text dy=\"1.25em\" style=\"font-size: 0.8em; letter-spacing: 1px\">\n",
       "        <textPath xlink:href=\"#arrow-f430225e336a4506859d8debbaf86b1c-0-6\" class=\"displacy-label\" startOffset=\"50%\" side=\"left\" fill=\"currentColor\" text-anchor=\"middle\">det</textPath>\n",
       "    </text>\n",
       "    <path class=\"displacy-arrowhead\" d=\"M1295,354.0 L1287,342.0 1303,342.0\" fill=\"currentColor\"/>\n",
       "</g>\n",
       "\n",
       "<g class=\"displacy-arrow\">\n",
       "    <path class=\"displacy-arc\" id=\"arrow-f430225e336a4506859d8debbaf86b1c-0-7\" stroke-width=\"2px\" d=\"M1470,352.0 C1470,264.5 1610.0,264.5 1610.0,352.0\" fill=\"none\" stroke=\"currentColor\"/>\n",
       "    <text dy=\"1.25em\" style=\"font-size: 0.8em; letter-spacing: 1px\">\n",
       "        <textPath xlink:href=\"#arrow-f430225e336a4506859d8debbaf86b1c-0-7\" class=\"displacy-label\" startOffset=\"50%\" side=\"left\" fill=\"currentColor\" text-anchor=\"middle\">amod</textPath>\n",
       "    </text>\n",
       "    <path class=\"displacy-arrowhead\" d=\"M1470,354.0 L1462,342.0 1478,342.0\" fill=\"currentColor\"/>\n",
       "</g>\n",
       "\n",
       "<g class=\"displacy-arrow\">\n",
       "    <path class=\"displacy-arc\" id=\"arrow-f430225e336a4506859d8debbaf86b1c-0-8\" stroke-width=\"2px\" d=\"M1120,352.0 C1120,89.5 1620.0,89.5 1620.0,352.0\" fill=\"none\" stroke=\"currentColor\"/>\n",
       "    <text dy=\"1.25em\" style=\"font-size: 0.8em; letter-spacing: 1px\">\n",
       "        <textPath xlink:href=\"#arrow-f430225e336a4506859d8debbaf86b1c-0-8\" class=\"displacy-label\" startOffset=\"50%\" side=\"left\" fill=\"currentColor\" text-anchor=\"middle\">attr</textPath>\n",
       "    </text>\n",
       "    <path class=\"displacy-arrowhead\" d=\"M1620.0,354.0 L1628.0,342.0 1612.0,342.0\" fill=\"currentColor\"/>\n",
       "</g>\n",
       "\n",
       "<g class=\"displacy-arrow\">\n",
       "    <path class=\"displacy-arc\" id=\"arrow-f430225e336a4506859d8debbaf86b1c-0-9\" stroke-width=\"2px\" d=\"M1120,352.0 C1120,2.0 1800.0,2.0 1800.0,352.0\" fill=\"none\" stroke=\"currentColor\"/>\n",
       "    <text dy=\"1.25em\" style=\"font-size: 0.8em; letter-spacing: 1px\">\n",
       "        <textPath xlink:href=\"#arrow-f430225e336a4506859d8debbaf86b1c-0-9\" class=\"displacy-label\" startOffset=\"50%\" side=\"left\" fill=\"currentColor\" text-anchor=\"middle\">advmod</textPath>\n",
       "    </text>\n",
       "    <path class=\"displacy-arrowhead\" d=\"M1800.0,354.0 L1808.0,342.0 1792.0,342.0\" fill=\"currentColor\"/>\n",
       "</g>\n",
       "\n",
       "<g class=\"displacy-arrow\">\n",
       "    <path class=\"displacy-arc\" id=\"arrow-f430225e336a4506859d8debbaf86b1c-0-10\" stroke-width=\"2px\" d=\"M1995,352.0 C1995,264.5 2135.0,264.5 2135.0,352.0\" fill=\"none\" stroke=\"currentColor\"/>\n",
       "    <text dy=\"1.25em\" style=\"font-size: 0.8em; letter-spacing: 1px\">\n",
       "        <textPath xlink:href=\"#arrow-f430225e336a4506859d8debbaf86b1c-0-10\" class=\"displacy-label\" startOffset=\"50%\" side=\"left\" fill=\"currentColor\" text-anchor=\"middle\">nsubj</textPath>\n",
       "    </text>\n",
       "    <path class=\"displacy-arrowhead\" d=\"M1995,354.0 L1987,342.0 2003,342.0\" fill=\"currentColor\"/>\n",
       "</g>\n",
       "\n",
       "<g class=\"displacy-arrow\">\n",
       "    <path class=\"displacy-arc\" id=\"arrow-f430225e336a4506859d8debbaf86b1c-0-11\" stroke-width=\"2px\" d=\"M2170,352.0 C2170,264.5 2310.0,264.5 2310.0,352.0\" fill=\"none\" stroke=\"currentColor\"/>\n",
       "    <text dy=\"1.25em\" style=\"font-size: 0.8em; letter-spacing: 1px\">\n",
       "        <textPath xlink:href=\"#arrow-f430225e336a4506859d8debbaf86b1c-0-11\" class=\"displacy-label\" startOffset=\"50%\" side=\"left\" fill=\"currentColor\" text-anchor=\"middle\">prep</textPath>\n",
       "    </text>\n",
       "    <path class=\"displacy-arrowhead\" d=\"M2310.0,354.0 L2318.0,342.0 2302.0,342.0\" fill=\"currentColor\"/>\n",
       "</g>\n",
       "\n",
       "<g class=\"displacy-arrow\">\n",
       "    <path class=\"displacy-arc\" id=\"arrow-f430225e336a4506859d8debbaf86b1c-0-12\" stroke-width=\"2px\" d=\"M2345,352.0 C2345,264.5 2485.0,264.5 2485.0,352.0\" fill=\"none\" stroke=\"currentColor\"/>\n",
       "    <text dy=\"1.25em\" style=\"font-size: 0.8em; letter-spacing: 1px\">\n",
       "        <textPath xlink:href=\"#arrow-f430225e336a4506859d8debbaf86b1c-0-12\" class=\"displacy-label\" startOffset=\"50%\" side=\"left\" fill=\"currentColor\" text-anchor=\"middle\">pobj</textPath>\n",
       "    </text>\n",
       "    <path class=\"displacy-arrowhead\" d=\"M2485.0,354.0 L2493.0,342.0 2477.0,342.0\" fill=\"currentColor\"/>\n",
       "</g>\n",
       "</svg></span>"
      ],
      "text/plain": [
       "<IPython.core.display.HTML object>"
      ]
     },
     "metadata": {},
     "output_type": "display_data"
    }
   ],
   "source": [
    "spacy.displacy.render(doc, style=\"dep\", jupyter=True)"
   ]
  },
  {
   "cell_type": "code",
   "execution_count": 48,
   "metadata": {
    "colab": {
     "background_save": true
    },
    "id": "_A4VZurTiWfK"
   },
   "outputs": [],
   "source": [
    "# NN require Numbers --but NLP is all about TEXT ??"
   ]
  },
  {
   "cell_type": "code",
   "execution_count": 49,
   "metadata": {
    "colab": {
     "background_save": true
    },
    "id": "PQkmGE0GkY1V"
   },
   "outputs": [],
   "source": [
    "# Suggest a way to convert Text to numbers ?"
   ]
  },
  {
   "cell_type": "code",
   "execution_count": 50,
   "metadata": {
    "colab": {
     "background_save": true
    },
    "id": "GUt4Wuu8krXf"
   },
   "outputs": [],
   "source": [
    "# Dict based mapping ...\n",
    "#  1  2. 3.  4.       5.  6.  2 3\n",
    "# Sam is a wonderful guy, he is a good actor too. He lives in London."
   ]
  },
  {
   "cell_type": "code",
   "execution_count": 51,
   "metadata": {
    "colab": {
     "background_save": true
    },
    "id": "it2kB-X4lBCP"
   },
   "outputs": [],
   "source": [
    "# Frequncy -\n",
    "# he - 2\n",
    "#"
   ]
  },
  {
   "cell_type": "code",
   "execution_count": 52,
   "metadata": {
    "colab": {
     "background_save": true
    },
    "id": "Lds08cU0qsAl"
   },
   "outputs": [],
   "source": [
    "# N-gram\n",
    "# \"What does n-gram means?\"\n",
    "\n",
    "# 1-gram --> \"what\", \"does\", \"n-gram\", 'means?'\n",
    "# 2-gram --> \"what does\", \"does n-gram\", \"n-gram means?\"\n",
    "# 3-gram --> \"what does n-gram\", \"does n-gram means?\""
   ]
  },
  {
   "cell_type": "code",
   "execution_count": 53,
   "metadata": {
    "colab": {
     "background_save": true
    },
    "id": "OjIamKJ3qtlX"
   },
   "outputs": [],
   "source": [
    "# Can we make a model which can generate text?\n"
   ]
  },
  {
   "cell_type": "code",
   "execution_count": 54,
   "metadata": {
    "colab": {
     "background_save": true
    },
    "id": "-8R347YwlPwa"
   },
   "outputs": [],
   "source": [
    "# Word2Vector"
   ]
  },
  {
   "cell_type": "code",
   "execution_count": 55,
   "metadata": {
    "colab": {
     "background_save": true
    },
    "id": "xF9jdUYlmAYQ"
   },
   "outputs": [],
   "source": [
    "a = nlp(\"Google\")\n",
    "b = nlp(\"Apple\")\n",
    "c = nlp(\"Facebook\")"
   ]
  },
  {
   "cell_type": "code",
   "execution_count": 56,
   "metadata": {
    "colab": {
     "background_save": true
    },
    "id": "OTOK0UWFmEIQ"
   },
   "outputs": [
    {
     "data": {
      "text/plain": [
       "array([-1.6791669 , -1.0870782 ,  0.19250968,  0.25911054,  0.6035862 ,\n",
       "       -0.23943791,  0.4230825 ,  1.0905894 , -0.72287023,  0.54199773,\n",
       "        2.0134606 ,  0.5878436 , -1.438591  ,  0.34972262, -0.9885775 ,\n",
       "       -0.22488567, -0.36815703, -0.46108434,  1.0655041 , -0.5766572 ,\n",
       "       -1.5123732 ,  0.0944034 , -0.77869797,  0.3027918 ,  0.5676613 ,\n",
       "       -0.43504488,  1.1920483 ,  2.069745  , -1.0445035 ,  0.5072073 ,\n",
       "       -0.5986357 , -0.2677313 ,  0.55666125,  0.7843174 , -0.5754984 ,\n",
       "       -1.2421182 , -0.0360465 ,  1.4002968 ,  0.38987774,  0.84340775,\n",
       "       -1.8175898 ,  0.09984967, -0.90104455,  0.1442564 , -0.931141  ,\n",
       "       -0.75148654, -0.83200043,  2.6693754 ,  0.47673374,  0.14977697,\n",
       "        0.29660368, -0.31461513,  1.7833931 , -0.2737963 ,  0.21640371,\n",
       "       -0.61993563,  0.31884038, -1.3580458 ,  0.3538408 ,  1.1720878 ,\n",
       "       -0.9922355 , -0.6553284 ,  0.48162243, -0.09145242,  1.8525093 ,\n",
       "        0.41191703,  0.2289168 ,  0.41558364, -0.34144104, -1.6715763 ,\n",
       "       -0.03176923, -0.50995314,  1.3127506 ,  0.06884529,  0.1893157 ,\n",
       "       -0.00792915,  0.49803048, -0.42086333, -0.14312631, -1.477735  ,\n",
       "       -0.27463835,  0.09194161, -0.54663646, -1.3215225 ,  0.40168962,\n",
       "        0.9809966 ,  1.4745597 ,  0.0391379 , -0.52888274,  0.7404101 ,\n",
       "       -0.9102658 , -0.49908575,  3.0042279 , -0.37593699,  0.1441854 ,\n",
       "        0.52195406], dtype=float32)"
      ]
     },
     "execution_count": 56,
     "metadata": {},
     "output_type": "execute_result"
    }
   ],
   "source": [
    "a.vector"
   ]
  },
  {
   "cell_type": "code",
   "execution_count": 57,
   "metadata": {
    "colab": {
     "background_save": true
    },
    "id": "aVRbgzx9mFAm"
   },
   "outputs": [
    {
     "data": {
      "text/plain": [
       "array([-1.2343618e+00, -2.2066161e-01, -1.3394827e+00,  9.2617881e-01,\n",
       "       -1.6458777e-01,  2.0845172e-01,  6.5073305e-01,  3.7095931e-01,\n",
       "       -7.9483503e-01, -5.9541941e-01,  1.3144678e+00, -8.0588520e-01,\n",
       "       -3.3430627e-01,  7.4644768e-01, -6.4305353e-01, -1.8274871e-01,\n",
       "       -1.1063125e+00, -3.7885407e-01,  1.7686224e-01, -5.3272671e-01,\n",
       "       -8.7309712e-01,  6.9363844e-01,  5.5944312e-01, -2.3312125e-01,\n",
       "        2.6052874e-01,  1.7502695e-01,  8.9972937e-01,  1.2830396e+00,\n",
       "       -7.2877765e-01,  6.3959765e-01, -4.4129956e-01, -1.4194009e-01,\n",
       "        6.8932390e-01,  4.6950650e-01, -5.7734179e-01, -1.2287256e+00,\n",
       "        1.2212546e+00, -2.0027488e-01,  1.4388344e+00,  1.1146947e+00,\n",
       "       -6.1585677e-01,  1.1059536e+00, -8.0499786e-01, -1.5372425e-02,\n",
       "       -2.8666100e-01, -6.0369498e-01,  2.0780817e-01,  3.3249247e-01,\n",
       "        1.3695480e-01, -5.5912948e-01,  6.2507582e-01, -7.7239025e-01,\n",
       "        3.7244290e-02, -2.3847607e-01,  4.4491506e-01, -1.6928431e+00,\n",
       "        6.3253683e-01, -9.4693524e-01,  6.3979954e-02,  5.6080180e-01,\n",
       "       -7.7175444e-01, -2.1687746e-03,  2.5245416e-01, -8.6731821e-01,\n",
       "        2.1562021e+00,  1.5533060e-02,  4.7364789e-01, -1.0610368e+00,\n",
       "        5.1755834e-01, -9.3048441e-01, -4.0801486e-01,  1.1840314e-01,\n",
       "        1.9438350e+00, -5.4718822e-01, -4.4986922e-01,  2.1799715e-01,\n",
       "       -2.0536771e-01,  8.6446419e-02,  1.7209461e-01, -6.0764700e-01,\n",
       "       -3.1693959e-01, -5.7123947e-01, -5.7839882e-01, -1.3460747e+00,\n",
       "       -3.6477238e-01,  1.7918825e+00,  6.8929970e-01,  4.2444620e-01,\n",
       "        4.8127609e-01, -2.8799093e-01, -1.0571691e+00, -6.1636770e-01,\n",
       "        2.8925645e+00,  6.0655093e-01,  8.1112444e-01, -2.0827761e-01],\n",
       "      dtype=float32)"
      ]
     },
     "execution_count": 57,
     "metadata": {},
     "output_type": "execute_result"
    }
   ],
   "source": [
    "b.vector"
   ]
  },
  {
   "cell_type": "code",
   "execution_count": 58,
   "metadata": {
    "colab": {
     "background_save": true
    },
    "id": "hNu_G2k1nFVN"
   },
   "outputs": [
    {
     "name": "stderr",
     "output_type": "stream",
     "text": [
      "C:\\Users\\Ankita\\AppData\\Local\\Temp\\ipykernel_8856\\3344546738.py:1: UserWarning: [W007] The model you're using has no word vectors loaded, so the result of the Doc.similarity method will be based on the tagger, parser and NER, which may not give useful similarity judgements. This may happen if you're using one of the small models, e.g. `en_core_web_sm`, which don't ship with word vectors and only use context-sensitive tensors. You can always add your own word vectors, or use one of the larger models instead if available.\n",
      "  a.similarity(b)\n"
     ]
    },
    {
     "data": {
      "text/plain": [
       "0.6568804462629225"
      ]
     },
     "execution_count": 58,
     "metadata": {},
     "output_type": "execute_result"
    }
   ],
   "source": [
    "a.similarity(b)"
   ]
  },
  {
   "cell_type": "code",
   "execution_count": 59,
   "metadata": {
    "colab": {
     "background_save": true
    },
    "id": "uoJQmiHvnQqP"
   },
   "outputs": [
    {
     "name": "stderr",
     "output_type": "stream",
     "text": [
      "C:\\Users\\Ankita\\AppData\\Local\\Temp\\ipykernel_8856\\1962196694.py:1: UserWarning: [W007] The model you're using has no word vectors loaded, so the result of the Doc.similarity method will be based on the tagger, parser and NER, which may not give useful similarity judgements. This may happen if you're using one of the small models, e.g. `en_core_web_sm`, which don't ship with word vectors and only use context-sensitive tensors. You can always add your own word vectors, or use one of the larger models instead if available.\n",
      "  a.similarity(c)\n"
     ]
    },
    {
     "data": {
      "text/plain": [
       "0.7316495238905276"
      ]
     },
     "execution_count": 59,
     "metadata": {},
     "output_type": "execute_result"
    }
   ],
   "source": [
    "a.similarity(c)"
   ]
  },
  {
   "cell_type": "code",
   "execution_count": 60,
   "metadata": {
    "colab": {
     "background_save": true
    },
    "id": "daELdFBgnZ8W"
   },
   "outputs": [
    {
     "name": "stderr",
     "output_type": "stream",
     "text": [
      "C:\\Users\\Ankita\\AppData\\Local\\Temp\\ipykernel_8856\\3757197794.py:1: UserWarning: [W007] The model you're using has no word vectors loaded, so the result of the Doc.similarity method will be based on the tagger, parser and NER, which may not give useful similarity judgements. This may happen if you're using one of the small models, e.g. `en_core_web_sm`, which don't ship with word vectors and only use context-sensitive tensors. You can always add your own word vectors, or use one of the larger models instead if available.\n",
      "  nlp(\"Sam is a very good person\").similarity(nlp(\"Sam is also a hardworking student\"))\n"
     ]
    },
    {
     "data": {
      "text/plain": [
       "0.6984014569396555"
      ]
     },
     "execution_count": 60,
     "metadata": {},
     "output_type": "execute_result"
    }
   ],
   "source": [
    "nlp(\"Sam is a very good person\").similarity(nlp(\"Sam is also a hardworking student\"))"
   ]
  },
  {
   "cell_type": "code",
   "execution_count": 61,
   "metadata": {
    "colab": {
     "background_save": true
    },
    "id": "McQvWOtpoRZi"
   },
   "outputs": [],
   "source": [
    "# Sent1 Vs Sent2"
   ]
  },
  {
   "cell_type": "code",
   "execution_count": 62,
   "metadata": {
    "colab": {
     "background_save": true
    },
    "id": "6bvJn4hJpr9g"
   },
   "outputs": [
    {
     "name": "stdout",
     "output_type": "stream",
     "text": [
      "\u001b[38;5;2m✔ Download and installation successful\u001b[0m\n",
      "You can now load the package via spacy.load('en_core_web_lg')\n"
     ]
    }
   ],
   "source": [
    "spacy.cli.download(\"en_core_web_lg\")"
   ]
  },
  {
   "cell_type": "code",
   "execution_count": 63,
   "metadata": {
    "colab": {
     "background_save": true
    },
    "id": "Do8r-duepv-1"
   },
   "outputs": [],
   "source": [
    "nlp2 = spacy.load(\"en_core_web_lg\")"
   ]
  },
  {
   "cell_type": "code",
   "execution_count": 64,
   "metadata": {
    "colab": {
     "background_save": true
    },
    "id": "1nQ5R2vOpFLv"
   },
   "outputs": [
    {
     "data": {
      "text/plain": [
       "0.7796644039253983"
      ]
     },
     "execution_count": 64,
     "metadata": {},
     "output_type": "execute_result"
    }
   ],
   "source": [
    "nlp2(\"Google is a very good company\").similarity(nlp2(\"Google is awesome\"))"
   ]
  },
  {
   "cell_type": "code",
   "execution_count": 65,
   "metadata": {
    "colab": {
     "background_save": true
    },
    "id": "bGdE8eN_pjAa"
   },
   "outputs": [
    {
     "data": {
      "text/plain": [
       "(300,)"
      ]
     },
     "execution_count": 65,
     "metadata": {},
     "output_type": "execute_result"
    }
   ],
   "source": [
    "nlp2(\"Google\").vector.shape"
   ]
  },
  {
   "cell_type": "code",
   "execution_count": 66,
   "metadata": {
    "colab": {
     "background_save": true
    },
    "id": "xoh1yZwEqoYp"
   },
   "outputs": [],
   "source": [
    "# RNN Recurrent Neural Networks -\n",
    "# Sam is a student in MIT, currently studing aeronautical sciences and he is also interning with NASA\n",
    "\n",
    "\n",
    "# a) It learns everything, even not required info\n",
    "# b) because it learn everything, it looses information of early stages"
   ]
  },
  {
   "cell_type": "code",
   "execution_count": 67,
   "metadata": {
    "colab": {
     "background_save": true
    },
    "id": "ijLGuSy5wIT0"
   },
   "outputs": [],
   "source": [
    "# LSTM Long Short Term Memory\n"
   ]
  },
  {
   "cell_type": "code",
   "execution_count": 68,
   "metadata": {
    "colab": {
     "background_save": true
    },
    "id": "y8nP0xT3wNJV"
   },
   "outputs": [],
   "source": [
    "# Download Sentiment Data\n",
    "# https://drive.google.com/file/d/16wOmTKHmz9ySye2JDoY0yfpIdKIvTkb9/view?usp=sharing"
   ]
  },
  {
   "cell_type": "code",
   "execution_count": 69,
   "metadata": {
    "colab": {
     "background_save": true
    },
    "id": "7XnOu3hvzMxf"
   },
   "outputs": [],
   "source": [
    "import pandas as pd\n",
    "import numpy as np\n",
    "import matplotlib.pyplot as plt\n",
    "import seaborn as sns"
   ]
  },
  {
   "cell_type": "code",
   "execution_count": 70,
   "metadata": {
    "colab": {
     "background_save": true
    },
    "id": "ArbXYOKgzkgu",
    "scrolled": true
   },
   "outputs": [],
   "source": [
    "df = pd.read_csv(\"Sentiment.csv\")"
   ]
  },
  {
   "cell_type": "code",
   "execution_count": 71,
   "metadata": {
    "colab": {
     "background_save": true
    },
    "id": "rLsp9GB-zrR7"
   },
   "outputs": [
    {
     "data": {
      "text/html": [
       "<div>\n",
       "<style scoped>\n",
       "    .dataframe tbody tr th:only-of-type {\n",
       "        vertical-align: middle;\n",
       "    }\n",
       "\n",
       "    .dataframe tbody tr th {\n",
       "        vertical-align: top;\n",
       "    }\n",
       "\n",
       "    .dataframe thead th {\n",
       "        text-align: right;\n",
       "    }\n",
       "</style>\n",
       "<table border=\"1\" class=\"dataframe\">\n",
       "  <thead>\n",
       "    <tr style=\"text-align: right;\">\n",
       "      <th></th>\n",
       "      <th>id</th>\n",
       "      <th>candidate</th>\n",
       "      <th>candidate_confidence</th>\n",
       "      <th>relevant_yn</th>\n",
       "      <th>relevant_yn_confidence</th>\n",
       "      <th>sentiment</th>\n",
       "      <th>sentiment_confidence</th>\n",
       "      <th>subject_matter</th>\n",
       "      <th>subject_matter_confidence</th>\n",
       "      <th>candidate_gold</th>\n",
       "      <th>...</th>\n",
       "      <th>relevant_yn_gold</th>\n",
       "      <th>retweet_count</th>\n",
       "      <th>sentiment_gold</th>\n",
       "      <th>subject_matter_gold</th>\n",
       "      <th>text</th>\n",
       "      <th>tweet_coord</th>\n",
       "      <th>tweet_created</th>\n",
       "      <th>tweet_id</th>\n",
       "      <th>tweet_location</th>\n",
       "      <th>user_timezone</th>\n",
       "    </tr>\n",
       "  </thead>\n",
       "  <tbody>\n",
       "    <tr>\n",
       "      <th>12547</th>\n",
       "      <td>12548</td>\n",
       "      <td>Donald Trump</td>\n",
       "      <td>1.0000</td>\n",
       "      <td>yes</td>\n",
       "      <td>1.0000</td>\n",
       "      <td>Negative</td>\n",
       "      <td>0.6837</td>\n",
       "      <td>FOX News or Moderators</td>\n",
       "      <td>1.0000</td>\n",
       "      <td>NaN</td>\n",
       "      <td>...</td>\n",
       "      <td>NaN</td>\n",
       "      <td>73</td>\n",
       "      <td>NaN</td>\n",
       "      <td>NaN</td>\n",
       "      <td>RT @RWSurferGirl: I'm really really really pis...</td>\n",
       "      <td>NaN</td>\n",
       "      <td>2015-08-06 19:19:39 -0700</td>\n",
       "      <td>629476970569437184</td>\n",
       "      <td>NaN</td>\n",
       "      <td>Pacific Time (US &amp; Canada)</td>\n",
       "    </tr>\n",
       "    <tr>\n",
       "      <th>3587</th>\n",
       "      <td>3588</td>\n",
       "      <td>Donald Trump</td>\n",
       "      <td>0.4548</td>\n",
       "      <td>yes</td>\n",
       "      <td>0.6744</td>\n",
       "      <td>Negative</td>\n",
       "      <td>0.3488</td>\n",
       "      <td>None of the above</td>\n",
       "      <td>0.4548</td>\n",
       "      <td>NaN</td>\n",
       "      <td>...</td>\n",
       "      <td>NaN</td>\n",
       "      <td>0</td>\n",
       "      <td>NaN</td>\n",
       "      <td>NaN</td>\n",
       "      <td>#AmericasGotFailent      \"@TheDemocrats: #GOPD...</td>\n",
       "      <td>NaN</td>\n",
       "      <td>2015-08-07 09:17:12 -0700</td>\n",
       "      <td>629687746651627520</td>\n",
       "      <td>DC</td>\n",
       "      <td>Quito</td>\n",
       "    </tr>\n",
       "    <tr>\n",
       "      <th>8233</th>\n",
       "      <td>8234</td>\n",
       "      <td>No candidate mentioned</td>\n",
       "      <td>1.0000</td>\n",
       "      <td>yes</td>\n",
       "      <td>1.0000</td>\n",
       "      <td>Positive</td>\n",
       "      <td>0.6624</td>\n",
       "      <td>Foreign Policy</td>\n",
       "      <td>0.6624</td>\n",
       "      <td>NaN</td>\n",
       "      <td>...</td>\n",
       "      <td>NaN</td>\n",
       "      <td>23</td>\n",
       "      <td>NaN</td>\n",
       "      <td>NaN</td>\n",
       "      <td>RT @MarkDavis: #Perry, #Fiorina clips on #Iran...</td>\n",
       "      <td>NaN</td>\n",
       "      <td>2015-08-07 05:41:51 -0700</td>\n",
       "      <td>629633554037628930</td>\n",
       "      <td>Texas</td>\n",
       "      <td>NaN</td>\n",
       "    </tr>\n",
       "    <tr>\n",
       "      <th>4015</th>\n",
       "      <td>4016</td>\n",
       "      <td>No candidate mentioned</td>\n",
       "      <td>0.4019</td>\n",
       "      <td>yes</td>\n",
       "      <td>0.6339</td>\n",
       "      <td>Neutral</td>\n",
       "      <td>0.3221</td>\n",
       "      <td>None of the above</td>\n",
       "      <td>0.4019</td>\n",
       "      <td>NaN</td>\n",
       "      <td>...</td>\n",
       "      <td>NaN</td>\n",
       "      <td>0</td>\n",
       "      <td>NaN</td>\n",
       "      <td>NaN</td>\n",
       "      <td>Because we are gluttons for punishment, we wat...</td>\n",
       "      <td>NaN</td>\n",
       "      <td>2015-08-07 09:12:09 -0700</td>\n",
       "      <td>629686474817032192</td>\n",
       "      <td>Sunny Buffalo New York</td>\n",
       "      <td>NaN</td>\n",
       "    </tr>\n",
       "    <tr>\n",
       "      <th>11912</th>\n",
       "      <td>11913</td>\n",
       "      <td>Jeb Bush</td>\n",
       "      <td>1.0000</td>\n",
       "      <td>yes</td>\n",
       "      <td>1.0000</td>\n",
       "      <td>Neutral</td>\n",
       "      <td>0.6577</td>\n",
       "      <td>None of the above</td>\n",
       "      <td>1.0000</td>\n",
       "      <td>NaN</td>\n",
       "      <td>...</td>\n",
       "      <td>NaN</td>\n",
       "      <td>0</td>\n",
       "      <td>NaN</td>\n",
       "      <td>NaN</td>\n",
       "      <td>I agree with Bush on this one thing - no one i...</td>\n",
       "      <td>NaN</td>\n",
       "      <td>2015-08-06 19:29:21 -0700</td>\n",
       "      <td>629479409356001280</td>\n",
       "      <td>Austin, TX</td>\n",
       "      <td>Mountain Time (US &amp; Canada)</td>\n",
       "    </tr>\n",
       "  </tbody>\n",
       "</table>\n",
       "<p>5 rows × 21 columns</p>\n",
       "</div>"
      ],
      "text/plain": [
       "          id               candidate  candidate_confidence relevant_yn  \\\n",
       "12547  12548            Donald Trump                1.0000         yes   \n",
       "3587    3588            Donald Trump                0.4548         yes   \n",
       "8233    8234  No candidate mentioned                1.0000         yes   \n",
       "4015    4016  No candidate mentioned                0.4019         yes   \n",
       "11912  11913                Jeb Bush                1.0000         yes   \n",
       "\n",
       "       relevant_yn_confidence sentiment  sentiment_confidence  \\\n",
       "12547                  1.0000  Negative                0.6837   \n",
       "3587                   0.6744  Negative                0.3488   \n",
       "8233                   1.0000  Positive                0.6624   \n",
       "4015                   0.6339   Neutral                0.3221   \n",
       "11912                  1.0000   Neutral                0.6577   \n",
       "\n",
       "               subject_matter  subject_matter_confidence candidate_gold  ...  \\\n",
       "12547  FOX News or Moderators                     1.0000            NaN  ...   \n",
       "3587        None of the above                     0.4548            NaN  ...   \n",
       "8233           Foreign Policy                     0.6624            NaN  ...   \n",
       "4015        None of the above                     0.4019            NaN  ...   \n",
       "11912       None of the above                     1.0000            NaN  ...   \n",
       "\n",
       "      relevant_yn_gold retweet_count  sentiment_gold subject_matter_gold  \\\n",
       "12547              NaN            73             NaN                 NaN   \n",
       "3587               NaN             0             NaN                 NaN   \n",
       "8233               NaN            23             NaN                 NaN   \n",
       "4015               NaN             0             NaN                 NaN   \n",
       "11912              NaN             0             NaN                 NaN   \n",
       "\n",
       "                                                    text tweet_coord  \\\n",
       "12547  RT @RWSurferGirl: I'm really really really pis...         NaN   \n",
       "3587   #AmericasGotFailent      \"@TheDemocrats: #GOPD...         NaN   \n",
       "8233   RT @MarkDavis: #Perry, #Fiorina clips on #Iran...         NaN   \n",
       "4015   Because we are gluttons for punishment, we wat...         NaN   \n",
       "11912  I agree with Bush on this one thing - no one i...         NaN   \n",
       "\n",
       "                   tweet_created            tweet_id          tweet_location  \\\n",
       "12547  2015-08-06 19:19:39 -0700  629476970569437184                     NaN   \n",
       "3587   2015-08-07 09:17:12 -0700  629687746651627520                      DC   \n",
       "8233   2015-08-07 05:41:51 -0700  629633554037628930                   Texas   \n",
       "4015   2015-08-07 09:12:09 -0700  629686474817032192  Sunny Buffalo New York   \n",
       "11912  2015-08-06 19:29:21 -0700  629479409356001280              Austin, TX   \n",
       "\n",
       "                     user_timezone  \n",
       "12547   Pacific Time (US & Canada)  \n",
       "3587                         Quito  \n",
       "8233                           NaN  \n",
       "4015                           NaN  \n",
       "11912  Mountain Time (US & Canada)  \n",
       "\n",
       "[5 rows x 21 columns]"
      ]
     },
     "execution_count": 71,
     "metadata": {},
     "output_type": "execute_result"
    }
   ],
   "source": [
    "df.sample(5)"
   ]
  },
  {
   "cell_type": "code",
   "execution_count": 72,
   "metadata": {
    "colab": {
     "background_save": true
    },
    "id": "0t9uWpdpzs4Y"
   },
   "outputs": [],
   "source": [
    "df = df.loc[:, [\"candidate\", 'text', 'sentiment']]"
   ]
  },
  {
   "cell_type": "code",
   "execution_count": 73,
   "metadata": {
    "colab": {
     "background_save": true
    },
    "id": "vusSxfSe0Bds"
   },
   "outputs": [
    {
     "data": {
      "text/html": [
       "<div>\n",
       "<style scoped>\n",
       "    .dataframe tbody tr th:only-of-type {\n",
       "        vertical-align: middle;\n",
       "    }\n",
       "\n",
       "    .dataframe tbody tr th {\n",
       "        vertical-align: top;\n",
       "    }\n",
       "\n",
       "    .dataframe thead th {\n",
       "        text-align: right;\n",
       "    }\n",
       "</style>\n",
       "<table border=\"1\" class=\"dataframe\">\n",
       "  <thead>\n",
       "    <tr style=\"text-align: right;\">\n",
       "      <th></th>\n",
       "      <th>candidate</th>\n",
       "      <th>text</th>\n",
       "      <th>sentiment</th>\n",
       "    </tr>\n",
       "  </thead>\n",
       "  <tbody>\n",
       "    <tr>\n",
       "      <th>3978</th>\n",
       "      <td>No candidate mentioned</td>\n",
       "      <td>Here's why it was so frustrating to watch the ...</td>\n",
       "      <td>Negative</td>\n",
       "    </tr>\n",
       "    <tr>\n",
       "      <th>5374</th>\n",
       "      <td>Ben Carson</td>\n",
       "      <td>RT @GameANew: @kimguilfoyle YOU are my favorit...</td>\n",
       "      <td>Neutral</td>\n",
       "    </tr>\n",
       "    <tr>\n",
       "      <th>982</th>\n",
       "      <td>No candidate mentioned</td>\n",
       "      <td>It's real scary that liberals are allowed 2 wa...</td>\n",
       "      <td>Negative</td>\n",
       "    </tr>\n",
       "    <tr>\n",
       "      <th>6549</th>\n",
       "      <td>No candidate mentioned</td>\n",
       "      <td>RT @txindyjourno: #BlackLivesMatter Activists ...</td>\n",
       "      <td>Neutral</td>\n",
       "    </tr>\n",
       "    <tr>\n",
       "      <th>1773</th>\n",
       "      <td>No candidate mentioned</td>\n",
       "      <td>#FNC honored #MegynKelly w/ appointment to be ...</td>\n",
       "      <td>Negative</td>\n",
       "    </tr>\n",
       "  </tbody>\n",
       "</table>\n",
       "</div>"
      ],
      "text/plain": [
       "                   candidate  \\\n",
       "3978  No candidate mentioned   \n",
       "5374              Ben Carson   \n",
       "982   No candidate mentioned   \n",
       "6549  No candidate mentioned   \n",
       "1773  No candidate mentioned   \n",
       "\n",
       "                                                   text sentiment  \n",
       "3978  Here's why it was so frustrating to watch the ...  Negative  \n",
       "5374  RT @GameANew: @kimguilfoyle YOU are my favorit...   Neutral  \n",
       "982   It's real scary that liberals are allowed 2 wa...  Negative  \n",
       "6549  RT @txindyjourno: #BlackLivesMatter Activists ...   Neutral  \n",
       "1773  #FNC honored #MegynKelly w/ appointment to be ...  Negative  "
      ]
     },
     "execution_count": 73,
     "metadata": {},
     "output_type": "execute_result"
    }
   ],
   "source": [
    "df.sample(5)"
   ]
  },
  {
   "cell_type": "code",
   "execution_count": 74,
   "metadata": {
    "colab": {
     "background_save": true
    },
    "id": "TUZwmDdQ0FBj"
   },
   "outputs": [
    {
     "data": {
      "text/plain": [
       "sentiment\n",
       "Negative    8493\n",
       "Neutral     3142\n",
       "Positive    2236\n",
       "Name: count, dtype: int64"
      ]
     },
     "execution_count": 74,
     "metadata": {},
     "output_type": "execute_result"
    }
   ],
   "source": [
    "df.sentiment.value_counts()"
   ]
  },
  {
   "cell_type": "code",
   "execution_count": 75,
   "metadata": {
    "colab": {
     "background_save": true
    },
    "id": "iROVUedY0IHl"
   },
   "outputs": [
    {
     "data": {
      "text/plain": [
       "candidate\n",
       "No candidate mentioned    7491\n",
       "Donald Trump              2813\n",
       "Jeb Bush                   705\n",
       "Ted Cruz                   637\n",
       "Ben Carson                 404\n",
       "Mike Huckabee              393\n",
       "Chris Christie             293\n",
       "Marco Rubio                275\n",
       "Rand Paul                  263\n",
       "Scott Walker               259\n",
       "John Kasich                242\n",
       "Name: count, dtype: int64"
      ]
     },
     "execution_count": 75,
     "metadata": {},
     "output_type": "execute_result"
    }
   ],
   "source": [
    "df.candidate.value_counts()"
   ]
  },
  {
   "cell_type": "code",
   "execution_count": 76,
   "metadata": {
    "colab": {
     "background_save": true
    },
    "id": "-OMwEI6O0VeQ"
   },
   "outputs": [
    {
     "data": {
      "text/html": [
       "<div>\n",
       "<style scoped>\n",
       "    .dataframe tbody tr th:only-of-type {\n",
       "        vertical-align: middle;\n",
       "    }\n",
       "\n",
       "    .dataframe tbody tr th {\n",
       "        vertical-align: top;\n",
       "    }\n",
       "\n",
       "    .dataframe thead th {\n",
       "        text-align: right;\n",
       "    }\n",
       "</style>\n",
       "<table border=\"1\" class=\"dataframe\">\n",
       "  <thead>\n",
       "    <tr style=\"text-align: right;\">\n",
       "      <th>sentiment</th>\n",
       "      <th>Negative</th>\n",
       "      <th>Neutral</th>\n",
       "      <th>Positive</th>\n",
       "    </tr>\n",
       "    <tr>\n",
       "      <th>candidate</th>\n",
       "      <th></th>\n",
       "      <th></th>\n",
       "      <th></th>\n",
       "    </tr>\n",
       "  </thead>\n",
       "  <tbody>\n",
       "    <tr>\n",
       "      <th>Ben Carson</th>\n",
       "      <td>186</td>\n",
       "      <td>54</td>\n",
       "      <td>164</td>\n",
       "    </tr>\n",
       "    <tr>\n",
       "      <th>Chris Christie</th>\n",
       "      <td>218</td>\n",
       "      <td>42</td>\n",
       "      <td>33</td>\n",
       "    </tr>\n",
       "    <tr>\n",
       "      <th>Donald Trump</th>\n",
       "      <td>1758</td>\n",
       "      <td>446</td>\n",
       "      <td>609</td>\n",
       "    </tr>\n",
       "    <tr>\n",
       "      <th>Jeb Bush</th>\n",
       "      <td>589</td>\n",
       "      <td>72</td>\n",
       "      <td>44</td>\n",
       "    </tr>\n",
       "    <tr>\n",
       "      <th>John Kasich</th>\n",
       "      <td>82</td>\n",
       "      <td>47</td>\n",
       "      <td>113</td>\n",
       "    </tr>\n",
       "    <tr>\n",
       "      <th>Marco Rubio</th>\n",
       "      <td>105</td>\n",
       "      <td>51</td>\n",
       "      <td>119</td>\n",
       "    </tr>\n",
       "    <tr>\n",
       "      <th>Mike Huckabee</th>\n",
       "      <td>237</td>\n",
       "      <td>83</td>\n",
       "      <td>73</td>\n",
       "    </tr>\n",
       "    <tr>\n",
       "      <th>No candidate mentioned</th>\n",
       "      <td>4724</td>\n",
       "      <td>2087</td>\n",
       "      <td>680</td>\n",
       "    </tr>\n",
       "    <tr>\n",
       "      <th>Rand Paul</th>\n",
       "      <td>148</td>\n",
       "      <td>60</td>\n",
       "      <td>55</td>\n",
       "    </tr>\n",
       "    <tr>\n",
       "      <th>Scott Walker</th>\n",
       "      <td>179</td>\n",
       "      <td>38</td>\n",
       "      <td>42</td>\n",
       "    </tr>\n",
       "    <tr>\n",
       "      <th>Ted Cruz</th>\n",
       "      <td>221</td>\n",
       "      <td>126</td>\n",
       "      <td>290</td>\n",
       "    </tr>\n",
       "  </tbody>\n",
       "</table>\n",
       "</div>"
      ],
      "text/plain": [
       "sentiment               Negative  Neutral  Positive\n",
       "candidate                                          \n",
       "Ben Carson                   186       54       164\n",
       "Chris Christie               218       42        33\n",
       "Donald Trump                1758      446       609\n",
       "Jeb Bush                     589       72        44\n",
       "John Kasich                   82       47       113\n",
       "Marco Rubio                  105       51       119\n",
       "Mike Huckabee                237       83        73\n",
       "No candidate mentioned      4724     2087       680\n",
       "Rand Paul                    148       60        55\n",
       "Scott Walker                 179       38        42\n",
       "Ted Cruz                     221      126       290"
      ]
     },
     "execution_count": 76,
     "metadata": {},
     "output_type": "execute_result"
    }
   ],
   "source": [
    "pd.crosstab(df.candidate, df.sentiment)"
   ]
  },
  {
   "cell_type": "code",
   "execution_count": 77,
   "metadata": {
    "colab": {
     "background_save": true
    },
    "id": "gYo12JUy09Xh"
   },
   "outputs": [
    {
     "data": {
      "text/plain": [
       "candidate               sentiment\n",
       "Ben Carson              Negative      186\n",
       "                        Neutral        54\n",
       "                        Positive      164\n",
       "Chris Christie          Negative      218\n",
       "                        Neutral        42\n",
       "                        Positive       33\n",
       "Donald Trump            Negative     1758\n",
       "                        Neutral       446\n",
       "                        Positive      609\n",
       "Jeb Bush                Negative      589\n",
       "                        Neutral        72\n",
       "                        Positive       44\n",
       "John Kasich             Negative       82\n",
       "                        Neutral        47\n",
       "                        Positive      113\n",
       "Marco Rubio             Negative      105\n",
       "                        Neutral        51\n",
       "                        Positive      119\n",
       "Mike Huckabee           Negative      237\n",
       "                        Neutral        83\n",
       "                        Positive       73\n",
       "No candidate mentioned  Negative     4724\n",
       "                        Neutral      2087\n",
       "                        Positive      680\n",
       "Rand Paul               Negative      148\n",
       "                        Neutral        60\n",
       "                        Positive       55\n",
       "Scott Walker            Negative      179\n",
       "                        Neutral        38\n",
       "                        Positive       42\n",
       "Ted Cruz                Negative      221\n",
       "                        Neutral       126\n",
       "                        Positive      290\n",
       "dtype: int64"
      ]
     },
     "execution_count": 77,
     "metadata": {},
     "output_type": "execute_result"
    }
   ],
   "source": [
    "df.groupby([\"candidate\", 'sentiment']).size()"
   ]
  },
  {
   "cell_type": "code",
   "execution_count": 78,
   "metadata": {
    "colab": {
     "background_save": true
    },
    "id": "l4GAFU1O1LXL"
   },
   "outputs": [
    {
     "data": {
      "text/plain": [
       "0        RT @NancyLeeGrahn: How did everyone feel about...\n",
       "1        RT @ScottWalker: Didn't catch the full #GOPdeb...\n",
       "2        RT @TJMShow: No mention of Tamir Rice and the ...\n",
       "3        RT @RobGeorge: That Carly Fiorina is trending ...\n",
       "4        RT @DanScavino: #GOPDebate w/ @realDonaldTrump...\n",
       "                               ...                        \n",
       "13866    RT @cappy_yarbrough: Love to see men who will ...\n",
       "13867    RT @georgehenryw: Who thought Huckabee exceede...\n",
       "13868    RT @Lrihendry: #TedCruz As President, I will a...\n",
       "13869    RT @JRehling: #GOPDebate Donald Trump says tha...\n",
       "13870    RT @Lrihendry: #TedCruz headed into the Presid...\n",
       "Name: text, Length: 13871, dtype: object"
      ]
     },
     "execution_count": 78,
     "metadata": {},
     "output_type": "execute_result"
    }
   ],
   "source": [
    "df.text"
   ]
  },
  {
   "cell_type": "code",
   "execution_count": 79,
   "metadata": {
    "colab": {
     "background_save": true
    },
    "id": "BCu1J6-W1dZo"
   },
   "outputs": [],
   "source": [
    "sample_tweet = df.text[0]"
   ]
  },
  {
   "cell_type": "code",
   "execution_count": 80,
   "metadata": {
    "colab": {
     "background_save": true
    },
    "id": "xy-ulJI8144v"
   },
   "outputs": [
    {
     "data": {
      "text/plain": [
       "0        How did everyone feel about the Climate Change...\n",
       "1        Didn't catch the full #GOPdebate last night. H...\n",
       "2        No mention of Tamir Rice and the #GOPDebate wa...\n",
       "3        That Carly Fiorina is trending -- hours after ...\n",
       "4        #GOPDebate w/ @realDonaldTrump delivered the h...\n",
       "                               ...                        \n",
       "13866    Love to see men who will never be faced with a...\n",
       "13867    Who thought Huckabee exceeded their expectatio...\n",
       "13868    #TedCruz As President, I will always tell the ...\n",
       "13869    #GOPDebate Donald Trump says that he doesn't h...\n",
       "13870    #TedCruz headed into the Presidential Debates....\n",
       "Name: text, Length: 13871, dtype: object"
      ]
     },
     "execution_count": 80,
     "metadata": {},
     "output_type": "execute_result"
    }
   ],
   "source": [
    "# Regex Based\n",
    "df.text = df.text.str.replace('^RT\\s@\\w+:\\s', '', regex=True)\n",
    "df.text"
   ]
  },
  {
   "cell_type": "code",
   "execution_count": 81,
   "metadata": {
    "colab": {
     "background_save": true
    },
    "id": "WpBdH_Bf2BCd"
   },
   "outputs": [],
   "source": [
    "# def remove_rt(text):\n",
    "#   if 'rt @' in text.lower():\n",
    "#     return \"\".join(text.split(\":\")[1:])\n",
    "#   else:\n",
    "#     return text"
   ]
  },
  {
   "cell_type": "code",
   "execution_count": 82,
   "metadata": {
    "colab": {
     "background_save": true
    },
    "id": "iQgh9PlG2kt9"
   },
   "outputs": [
    {
     "data": {
      "text/plain": [
       "'!\"#$%&\\'()*+,-./:;<=>?@[\\\\]^_`{|}~'"
      ]
     },
     "execution_count": 82,
     "metadata": {},
     "output_type": "execute_result"
    }
   ],
   "source": [
    "import string\n",
    "import re\n",
    "string.punctuation"
   ]
  },
  {
   "cell_type": "code",
   "execution_count": 83,
   "metadata": {
    "colab": {
     "background_save": true
    },
    "id": "64oQSXYw3vvA"
   },
   "outputs": [
    {
     "data": {
      "text/plain": [
       "0        How did everyone feel about the Climate Change...\n",
       "1        Didn't catch the full #GOPdebate last night. H...\n",
       "2        No mention of Tamir Rice and the #GOPDebate wa...\n",
       "3        That Carly Fiorina is trending -- hours after ...\n",
       "4        #GOPDebate w/ @realDonaldTrump delivered the h...\n",
       "                               ...                        \n",
       "13866    Love to see men who will never be faced with a...\n",
       "13867    Who thought Huckabee exceeded their expectatio...\n",
       "13868    #TedCruz As President, I will always tell the ...\n",
       "13869    #GOPDebate Donald Trump says that he doesn't h...\n",
       "13870    #TedCruz headed into the Presidential Debates....\n",
       "Name: text, Length: 13871, dtype: object"
      ]
     },
     "execution_count": 83,
     "metadata": {},
     "output_type": "execute_result"
    }
   ],
   "source": [
    "df.text"
   ]
  },
  {
   "cell_type": "code",
   "execution_count": 84,
   "metadata": {
    "colab": {
     "background_save": true
    },
    "id": "0Yw7eDV93Wb_"
   },
   "outputs": [
    {
     "data": {
      "text/plain": [
       "0        How did everyone feel about the Climate Change...\n",
       "1        Didnt catch the full GOPdebate last night Here...\n",
       "2        No mention of Tamir Rice and the GOPDebate was...\n",
       "3        That Carly Fiorina is trending  hours after HE...\n",
       "4        GOPDebate w realDonaldTrump delivered the high...\n",
       "                               ...                        \n",
       "13866    Love to see men who will never be faced with a...\n",
       "13867    Who thought Huckabee exceeded their expectatio...\n",
       "13868    TedCruz As President I will always tell the tr...\n",
       "13869    GOPDebate Donald Trump says that he doesnt hav...\n",
       "13870    TedCruz headed into the Presidential Debates G...\n",
       "Name: text, Length: 13871, dtype: object"
      ]
     },
     "execution_count": 84,
     "metadata": {},
     "output_type": "execute_result"
    }
   ],
   "source": [
    "df.text\n",
    "df.text.apply(lambda x: re.sub('[^a-zA-Z0-9\\s]', \"\", x))"
   ]
  },
  {
   "cell_type": "code",
   "execution_count": 85,
   "metadata": {
    "colab": {
     "background_save": true
    },
    "id": "JtwvQtJi3dTk"
   },
   "outputs": [],
   "source": [
    "df.text = df.text.str.lower()"
   ]
  },
  {
   "cell_type": "code",
   "execution_count": 86,
   "metadata": {
    "colab": {
     "background_save": true
    },
    "id": "_ViWos1M4lwD"
   },
   "outputs": [],
   "source": [
    "# Remove Stop word"
   ]
  },
  {
   "cell_type": "code",
   "execution_count": 87,
   "metadata": {
    "colab": {
     "background_save": true
    },
    "id": "_rzY3N3V4qCg"
   },
   "outputs": [],
   "source": [
    "def remove_stopword(tweet):\n",
    "  doc = nlp(tweet)\n",
    "  nonStopwords = []\n",
    "  for word in doc:\n",
    "    if word.is_stop == False:\n",
    "      nonStopwords.append(word.text)\n",
    "  return \" \".join(nonStopwords) # join the elements of list based on \" \""
   ]
  },
  {
   "cell_type": "code",
   "execution_count": 88,
   "metadata": {
    "colab": {
     "background_save": true
    },
    "id": "hgsQcN3h8DQc"
   },
   "outputs": [
    {
     "data": {
      "text/plain": [
       "'Sam , % ^ super coo'"
      ]
     },
     "execution_count": 88,
     "metadata": {},
     "output_type": "execute_result"
    }
   ],
   "source": [
    "remove_stopword(\"Sam is ,%^ super coo\")"
   ]
  },
  {
   "cell_type": "code",
   "execution_count": 89,
   "metadata": {
    "colab": {
     "background_save": true
    },
    "id": "M5wQeBD_5F5N"
   },
   "outputs": [
    {
     "data": {
      "text/plain": [
       "'Sam is awesome'"
      ]
     },
     "execution_count": 89,
     "metadata": {},
     "output_type": "execute_result"
    }
   ],
   "source": [
    "\" \".join([\"Sam\", \"is\", \"awesome\"])"
   ]
  },
  {
   "cell_type": "code",
   "execution_count": 90,
   "metadata": {
    "colab": {
     "background_save": true
    },
    "id": "wTuR40Sp7Tvn"
   },
   "outputs": [],
   "source": [
    "df[\"text2\"] = None"
   ]
  },
  {
   "cell_type": "code",
   "execution_count": null,
   "metadata": {
    "colab": {
     "background_save": true
    },
    "id": "0EzLIXjE5Pko"
   },
   "outputs": [],
   "source": [
    "df[\"text2\"] = df.text.apply(remove_stopword)"
   ]
  },
  {
   "cell_type": "code",
   "execution_count": null,
   "metadata": {
    "colab": {
     "background_save": true
    },
    "id": "wrYKm9-B7LFv"
   },
   "outputs": [],
   "source": [
    "df.sample(5)"
   ]
  },
  {
   "cell_type": "code",
   "execution_count": null,
   "metadata": {
    "colab": {
     "background_save": true
    },
    "id": "GhSQ2exJ5g1K"
   },
   "outputs": [],
   "source": [
    "df.shape"
   ]
  },
  {
   "cell_type": "code",
   "execution_count": null,
   "metadata": {
    "colab": {
     "background_save": true
    },
    "id": "Xroni5-t7IbB"
   },
   "outputs": [],
   "source": [
    "df[\"text2\"] = df.text2.apply(lambda x: re.sub('[^a-zA-Z0-9\\s]', \"\", x))"
   ]
  },
  {
   "cell_type": "code",
   "execution_count": null,
   "metadata": {
    "colab": {
     "background_save": true
    },
    "id": "jszJ71uD9k56"
   },
   "outputs": [],
   "source": [
    "df.sample(5)"
   ]
  },
  {
   "cell_type": "code",
   "execution_count": null,
   "metadata": {
    "colab": {
     "background_save": true
    },
    "id": "tBcsrWd69oJB"
   },
   "outputs": [],
   "source": [
    "import tensorflow as tf"
   ]
  },
  {
   "cell_type": "code",
   "execution_count": null,
   "metadata": {
    "colab": {
     "background_save": true
    },
    "id": "1ADf5nVK96XF"
   },
   "outputs": [],
   "source": [
    "from tensorflow.keras.preprocessing.text import Tokenizer\n",
    "from tensorflow.keras.preprocessing.sequence import pad_sequences"
   ]
  },
  {
   "cell_type": "code",
   "execution_count": null,
   "metadata": {
    "colab": {
     "background_save": true
    },
    "id": "Npruj132-PQh"
   },
   "outputs": [],
   "source": [
    "max_features = 2000\n",
    "token = Tokenizer(max_features, split=\" \")"
   ]
  },
  {
   "cell_type": "code",
   "execution_count": null,
   "metadata": {
    "colab": {
     "background_save": true
    },
    "id": "Nxv5Ueod-eKz"
   },
   "outputs": [],
   "source": [
    "token.fit_on_texts(df.text2)"
   ]
  },
  {
   "cell_type": "code",
   "execution_count": null,
   "metadata": {
    "colab": {
     "background_save": true
    },
    "id": "EKDCiDpP-27W"
   },
   "outputs": [],
   "source": [
    "token.index_word"
   ]
  },
  {
   "cell_type": "code",
   "execution_count": null,
   "metadata": {
    "colab": {
     "background_save": true
    },
    "id": "ikDZMtRt-7iu"
   },
   "outputs": [],
   "source": [
    "X = token.texts_to_sequences(df.text2)"
   ]
  },
  {
   "cell_type": "code",
   "execution_count": null,
   "metadata": {
    "colab": {
     "background_save": true
    },
    "id": "o_rqdNWm_ZHw"
   },
   "outputs": [],
   "source": [
    "df.text2[0]"
   ]
  },
  {
   "cell_type": "code",
   "execution_count": null,
   "metadata": {
    "colab": {
     "background_save": true
    },
    "id": "p4FCqzAfBUUE"
   },
   "outputs": [],
   "source": [
    "token.index_word[304]"
   ]
  },
  {
   "cell_type": "code",
   "execution_count": null,
   "metadata": {
    "colab": {
     "background_save": true
    },
    "id": "gZGArAdDBf31"
   },
   "outputs": [],
   "source": [
    "token.index_word[270]"
   ]
  },
  {
   "cell_type": "code",
   "execution_count": null,
   "metadata": {
    "colab": {
     "background_save": true
    },
    "id": "F9cDt_hM_gc_"
   },
   "outputs": [],
   "source": [
    "X[0]"
   ]
  },
  {
   "cell_type": "code",
   "execution_count": null,
   "metadata": {
    "colab": {
     "background_save": true
    },
    "id": "qGjtZ3TB_icG"
   },
   "outputs": [],
   "source": [
    "# token.word_counts - Word Count\n",
    "# token.word_index - Word Ranking"
   ]
  },
  {
   "cell_type": "code",
   "execution_count": null,
   "metadata": {
    "colab": {
     "background_save": true
    },
    "id": "OaIUrJtb_tAV"
   },
   "outputs": [],
   "source": [
    "X_pad = pad_sequences(X)"
   ]
  },
  {
   "cell_type": "code",
   "execution_count": null,
   "metadata": {
    "colab": {
     "background_save": true
    },
    "id": "tdUmnvDY__Tn"
   },
   "outputs": [],
   "source": [
    "X_pad[0]"
   ]
  },
  {
   "cell_type": "code",
   "execution_count": null,
   "metadata": {
    "colab": {
     "background_save": true
    },
    "id": "TbZF9XO6AFxS"
   },
   "outputs": [],
   "source": [
    "X_pad.shape"
   ]
  },
  {
   "cell_type": "code",
   "execution_count": null,
   "metadata": {
    "colab": {
     "background_save": true
    },
    "id": "kXCOh0WPAJV5"
   },
   "outputs": [],
   "source": [
    "len(X_pad[0]), len(X_pad[10]), len(X_pad[100]), len(X_pad[1000])"
   ]
  },
  {
   "cell_type": "code",
   "execution_count": null,
   "metadata": {
    "colab": {
     "background_save": true
    },
    "id": "nDMN6u1WAi52"
   },
   "outputs": [],
   "source": [
    "X[10]"
   ]
  },
  {
   "cell_type": "code",
   "execution_count": null,
   "metadata": {
    "colab": {
     "background_save": true
    },
    "id": "XTQ4LCaDAuM2"
   },
   "outputs": [],
   "source": [
    "X_pad[10]"
   ]
  },
  {
   "cell_type": "code",
   "execution_count": null,
   "metadata": {
    "colab": {
     "background_save": true
    },
    "id": "0QHGRJ56Avav"
   },
   "outputs": [],
   "source": [
    "model = tf.keras.models.Sequential()\n",
    "model.add(tf.keras.layers.Embedding(max_features, 128, input_length=X_pad.shape[1]))\n",
    "model.add(tf.keras.layers.LSTM(128, dropout=0.2))\n",
    "model.add(tf.keras.layers.Dense(3, activation='softmax'))"
   ]
  },
  {
   "cell_type": "code",
   "execution_count": null,
   "metadata": {
    "colab": {
     "background_save": true
    },
    "id": "G-RUeB1TEoqE"
   },
   "outputs": [],
   "source": [
    "model.compile(loss=tf.keras.losses.categorical_crossentropy,\n",
    "              metrics=[\"acc\"], optimizer='adam')"
   ]
  },
  {
   "cell_type": "code",
   "execution_count": null,
   "metadata": {
    "colab": {
     "background_save": true
    },
    "id": "vto3qhyfEyou"
   },
   "outputs": [],
   "source": [
    "model.summary()"
   ]
  },
  {
   "cell_type": "code",
   "execution_count": null,
   "metadata": {
    "colab": {
     "background_save": true
    },
    "id": "crFn8x4hE0sW"
   },
   "outputs": [],
   "source": [
    "df.sentiment"
   ]
  },
  {
   "cell_type": "code",
   "execution_count": null,
   "metadata": {
    "colab": {
     "background_save": true
    },
    "id": "ddDxsIqzE9AP"
   },
   "outputs": [],
   "source": [
    "Y = pd.get_dummies(df.sentiment)"
   ]
  },
  {
   "cell_type": "code",
   "execution_count": null,
   "metadata": {
    "colab": {
     "background_save": true
    },
    "id": "1HT2nD7KFBGp"
   },
   "outputs": [],
   "source": [
    "Y"
   ]
  },
  {
   "cell_type": "code",
   "execution_count": null,
   "metadata": {
    "colab": {
     "background_save": true
    },
    "id": "Aedwd9iPFClg"
   },
   "outputs": [],
   "source": [
    "model.fit(X_pad, Y, epochs=5)"
   ]
  }
 ],
 "metadata": {
  "colab": {
   "name": "",
   "provenance": [
    {
     "file_id": "1n555BJAAlEqO_MbA4q7ZdwigoyBrYxVK",
     "timestamp": 1687805304133
    }
   ],
   "version": ""
  },
  "kernelspec": {
   "display_name": "Python 3 (ipykernel)",
   "language": "python",
   "name": "python3"
  },
  "language_info": {
   "codemirror_mode": {
    "name": "ipython",
    "version": 3
   },
   "file_extension": ".py",
   "mimetype": "text/x-python",
   "name": "python",
   "nbconvert_exporter": "python",
   "pygments_lexer": "ipython3",
   "version": "3.10.9"
  }
 },
 "nbformat": 4,
 "nbformat_minor": 4
}
